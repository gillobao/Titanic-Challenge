{
 "cells": [
  {
   "cell_type": "code",
   "execution_count": 1,
   "id": "8dba496e",
   "metadata": {
    "_cell_guid": "b1076dfc-b9ad-4769-8c92-a6c4dae69d19",
    "_uuid": "8f2839f25d086af736a60e9eeb907d3b93b6e0e5",
    "execution": {
     "iopub.execute_input": "2023-06-12T10:24:55.648990Z",
     "iopub.status.busy": "2023-06-12T10:24:55.647349Z",
     "iopub.status.idle": "2023-06-12T10:24:56.794411Z",
     "shell.execute_reply": "2023-06-12T10:24:56.792615Z"
    },
    "papermill": {
     "duration": 1.171037,
     "end_time": "2023-06-12T10:24:56.797340",
     "exception": false,
     "start_time": "2023-06-12T10:24:55.626303",
     "status": "completed"
    },
    "tags": []
   },
   "outputs": [
    {
     "name": "stdout",
     "output_type": "stream",
     "text": [
      "/kaggle/input/titanic/train.csv\n",
      "/kaggle/input/titanic/test.csv\n",
      "/kaggle/input/titanic/gender_submission.csv\n"
     ]
    }
   ],
   "source": [
    "# This Python 3 environment comes with many helpful analytics libraries installed\n",
    "# It is defined by the kaggle/python Docker image: https://github.com/kaggle/docker-python\n",
    "# For example, here's several helpful packages to load\n",
    "\n",
    "import numpy as np # linear algebra\n",
    "import pandas as pd # data processing, CSV file I/O (e.g. pd.read_csv)\n",
    "import matplotlib.pyplot as plt # data visualization\n",
    "%matplotlib inline\n",
    "import seaborn as sns\n",
    "\n",
    "# Input data files are available in the read-only \"../input/\" directory\n",
    "# For example, running this (by clicking run or pressing Shift+Enter) will list all files under the input directory\n",
    "\n",
    "import os\n",
    "for dirname, _, filenames in os.walk('/kaggle/input'):\n",
    "    for filename in filenames:\n",
    "        print(os.path.join(dirname, filename))\n",
    "\n",
    "# You can write up to 20GB to the current directory (/kaggle/working/) that gets preserved as output when you create a version using \"Save & Run All\" \n",
    "# You can also write temporary files to /kaggle/temp/, but they won't be saved outside of the current session"
   ]
  },
  {
   "cell_type": "code",
   "execution_count": 2,
   "id": "cdc9ce53",
   "metadata": {
    "execution": {
     "iopub.execute_input": "2023-06-12T10:24:56.836535Z",
     "iopub.status.busy": "2023-06-12T10:24:56.836132Z",
     "iopub.status.idle": "2023-06-12T10:24:56.886886Z",
     "shell.execute_reply": "2023-06-12T10:24:56.885868Z"
    },
    "papermill": {
     "duration": 0.073854,
     "end_time": "2023-06-12T10:24:56.888966",
     "exception": false,
     "start_time": "2023-06-12T10:24:56.815112",
     "status": "completed"
    },
    "tags": []
   },
   "outputs": [
    {
     "data": {
      "text/html": [
       "<div>\n",
       "<style scoped>\n",
       "    .dataframe tbody tr th:only-of-type {\n",
       "        vertical-align: middle;\n",
       "    }\n",
       "\n",
       "    .dataframe tbody tr th {\n",
       "        vertical-align: top;\n",
       "    }\n",
       "\n",
       "    .dataframe thead th {\n",
       "        text-align: right;\n",
       "    }\n",
       "</style>\n",
       "<table border=\"1\" class=\"dataframe\">\n",
       "  <thead>\n",
       "    <tr style=\"text-align: right;\">\n",
       "      <th></th>\n",
       "      <th>Survived</th>\n",
       "      <th>Pclass</th>\n",
       "      <th>Name</th>\n",
       "      <th>Sex</th>\n",
       "      <th>Age</th>\n",
       "      <th>SibSp</th>\n",
       "      <th>Parch</th>\n",
       "      <th>Ticket</th>\n",
       "      <th>Fare</th>\n",
       "      <th>Cabin</th>\n",
       "      <th>Embarked</th>\n",
       "    </tr>\n",
       "    <tr>\n",
       "      <th>PassengerId</th>\n",
       "      <th></th>\n",
       "      <th></th>\n",
       "      <th></th>\n",
       "      <th></th>\n",
       "      <th></th>\n",
       "      <th></th>\n",
       "      <th></th>\n",
       "      <th></th>\n",
       "      <th></th>\n",
       "      <th></th>\n",
       "      <th></th>\n",
       "    </tr>\n",
       "  </thead>\n",
       "  <tbody>\n",
       "    <tr>\n",
       "      <th>1</th>\n",
       "      <td>0</td>\n",
       "      <td>3</td>\n",
       "      <td>Braund, Mr. Owen Harris</td>\n",
       "      <td>male</td>\n",
       "      <td>22.0</td>\n",
       "      <td>1</td>\n",
       "      <td>0</td>\n",
       "      <td>A/5 21171</td>\n",
       "      <td>7.2500</td>\n",
       "      <td>NaN</td>\n",
       "      <td>S</td>\n",
       "    </tr>\n",
       "    <tr>\n",
       "      <th>2</th>\n",
       "      <td>1</td>\n",
       "      <td>1</td>\n",
       "      <td>Cumings, Mrs. John Bradley (Florence Briggs Th...</td>\n",
       "      <td>female</td>\n",
       "      <td>38.0</td>\n",
       "      <td>1</td>\n",
       "      <td>0</td>\n",
       "      <td>PC 17599</td>\n",
       "      <td>71.2833</td>\n",
       "      <td>C85</td>\n",
       "      <td>C</td>\n",
       "    </tr>\n",
       "    <tr>\n",
       "      <th>3</th>\n",
       "      <td>1</td>\n",
       "      <td>3</td>\n",
       "      <td>Heikkinen, Miss. Laina</td>\n",
       "      <td>female</td>\n",
       "      <td>26.0</td>\n",
       "      <td>0</td>\n",
       "      <td>0</td>\n",
       "      <td>STON/O2. 3101282</td>\n",
       "      <td>7.9250</td>\n",
       "      <td>NaN</td>\n",
       "      <td>S</td>\n",
       "    </tr>\n",
       "    <tr>\n",
       "      <th>4</th>\n",
       "      <td>1</td>\n",
       "      <td>1</td>\n",
       "      <td>Futrelle, Mrs. Jacques Heath (Lily May Peel)</td>\n",
       "      <td>female</td>\n",
       "      <td>35.0</td>\n",
       "      <td>1</td>\n",
       "      <td>0</td>\n",
       "      <td>113803</td>\n",
       "      <td>53.1000</td>\n",
       "      <td>C123</td>\n",
       "      <td>S</td>\n",
       "    </tr>\n",
       "    <tr>\n",
       "      <th>5</th>\n",
       "      <td>0</td>\n",
       "      <td>3</td>\n",
       "      <td>Allen, Mr. William Henry</td>\n",
       "      <td>male</td>\n",
       "      <td>35.0</td>\n",
       "      <td>0</td>\n",
       "      <td>0</td>\n",
       "      <td>373450</td>\n",
       "      <td>8.0500</td>\n",
       "      <td>NaN</td>\n",
       "      <td>S</td>\n",
       "    </tr>\n",
       "  </tbody>\n",
       "</table>\n",
       "</div>"
      ],
      "text/plain": [
       "             Survived  Pclass  \\\n",
       "PassengerId                     \n",
       "1                   0       3   \n",
       "2                   1       1   \n",
       "3                   1       3   \n",
       "4                   1       1   \n",
       "5                   0       3   \n",
       "\n",
       "                                                          Name     Sex   Age  \\\n",
       "PassengerId                                                                    \n",
       "1                                      Braund, Mr. Owen Harris    male  22.0   \n",
       "2            Cumings, Mrs. John Bradley (Florence Briggs Th...  female  38.0   \n",
       "3                                       Heikkinen, Miss. Laina  female  26.0   \n",
       "4                 Futrelle, Mrs. Jacques Heath (Lily May Peel)  female  35.0   \n",
       "5                                     Allen, Mr. William Henry    male  35.0   \n",
       "\n",
       "             SibSp  Parch            Ticket     Fare Cabin Embarked  \n",
       "PassengerId                                                          \n",
       "1                1      0         A/5 21171   7.2500   NaN        S  \n",
       "2                1      0          PC 17599  71.2833   C85        C  \n",
       "3                0      0  STON/O2. 3101282   7.9250   NaN        S  \n",
       "4                1      0            113803  53.1000  C123        S  \n",
       "5                0      0            373450   8.0500   NaN        S  "
      ]
     },
     "execution_count": 2,
     "metadata": {},
     "output_type": "execute_result"
    }
   ],
   "source": [
    "#PassengerId is not an exploitable feature but should be used as an index\n",
    "train_data = pd.read_csv(\"/kaggle/input/titanic/train.csv\", index_col='PassengerId')\n",
    "train_data.head()"
   ]
  },
  {
   "cell_type": "code",
   "execution_count": 3,
   "id": "33dc7d34",
   "metadata": {
    "execution": {
     "iopub.execute_input": "2023-06-12T10:24:56.926362Z",
     "iopub.status.busy": "2023-06-12T10:24:56.925173Z",
     "iopub.status.idle": "2023-06-12T10:24:56.948080Z",
     "shell.execute_reply": "2023-06-12T10:24:56.947137Z"
    },
    "papermill": {
     "duration": 0.04348,
     "end_time": "2023-06-12T10:24:56.950054",
     "exception": false,
     "start_time": "2023-06-12T10:24:56.906574",
     "status": "completed"
    },
    "tags": []
   },
   "outputs": [
    {
     "data": {
      "text/html": [
       "<div>\n",
       "<style scoped>\n",
       "    .dataframe tbody tr th:only-of-type {\n",
       "        vertical-align: middle;\n",
       "    }\n",
       "\n",
       "    .dataframe tbody tr th {\n",
       "        vertical-align: top;\n",
       "    }\n",
       "\n",
       "    .dataframe thead th {\n",
       "        text-align: right;\n",
       "    }\n",
       "</style>\n",
       "<table border=\"1\" class=\"dataframe\">\n",
       "  <thead>\n",
       "    <tr style=\"text-align: right;\">\n",
       "      <th></th>\n",
       "      <th>Pclass</th>\n",
       "      <th>Name</th>\n",
       "      <th>Sex</th>\n",
       "      <th>Age</th>\n",
       "      <th>SibSp</th>\n",
       "      <th>Parch</th>\n",
       "      <th>Ticket</th>\n",
       "      <th>Fare</th>\n",
       "      <th>Cabin</th>\n",
       "      <th>Embarked</th>\n",
       "    </tr>\n",
       "    <tr>\n",
       "      <th>PassengerId</th>\n",
       "      <th></th>\n",
       "      <th></th>\n",
       "      <th></th>\n",
       "      <th></th>\n",
       "      <th></th>\n",
       "      <th></th>\n",
       "      <th></th>\n",
       "      <th></th>\n",
       "      <th></th>\n",
       "      <th></th>\n",
       "    </tr>\n",
       "  </thead>\n",
       "  <tbody>\n",
       "    <tr>\n",
       "      <th>892</th>\n",
       "      <td>3</td>\n",
       "      <td>Kelly, Mr. James</td>\n",
       "      <td>male</td>\n",
       "      <td>34.5</td>\n",
       "      <td>0</td>\n",
       "      <td>0</td>\n",
       "      <td>330911</td>\n",
       "      <td>7.8292</td>\n",
       "      <td>NaN</td>\n",
       "      <td>Q</td>\n",
       "    </tr>\n",
       "    <tr>\n",
       "      <th>893</th>\n",
       "      <td>3</td>\n",
       "      <td>Wilkes, Mrs. James (Ellen Needs)</td>\n",
       "      <td>female</td>\n",
       "      <td>47.0</td>\n",
       "      <td>1</td>\n",
       "      <td>0</td>\n",
       "      <td>363272</td>\n",
       "      <td>7.0000</td>\n",
       "      <td>NaN</td>\n",
       "      <td>S</td>\n",
       "    </tr>\n",
       "    <tr>\n",
       "      <th>894</th>\n",
       "      <td>2</td>\n",
       "      <td>Myles, Mr. Thomas Francis</td>\n",
       "      <td>male</td>\n",
       "      <td>62.0</td>\n",
       "      <td>0</td>\n",
       "      <td>0</td>\n",
       "      <td>240276</td>\n",
       "      <td>9.6875</td>\n",
       "      <td>NaN</td>\n",
       "      <td>Q</td>\n",
       "    </tr>\n",
       "    <tr>\n",
       "      <th>895</th>\n",
       "      <td>3</td>\n",
       "      <td>Wirz, Mr. Albert</td>\n",
       "      <td>male</td>\n",
       "      <td>27.0</td>\n",
       "      <td>0</td>\n",
       "      <td>0</td>\n",
       "      <td>315154</td>\n",
       "      <td>8.6625</td>\n",
       "      <td>NaN</td>\n",
       "      <td>S</td>\n",
       "    </tr>\n",
       "    <tr>\n",
       "      <th>896</th>\n",
       "      <td>3</td>\n",
       "      <td>Hirvonen, Mrs. Alexander (Helga E Lindqvist)</td>\n",
       "      <td>female</td>\n",
       "      <td>22.0</td>\n",
       "      <td>1</td>\n",
       "      <td>1</td>\n",
       "      <td>3101298</td>\n",
       "      <td>12.2875</td>\n",
       "      <td>NaN</td>\n",
       "      <td>S</td>\n",
       "    </tr>\n",
       "  </tbody>\n",
       "</table>\n",
       "</div>"
      ],
      "text/plain": [
       "             Pclass                                          Name     Sex  \\\n",
       "PassengerId                                                                 \n",
       "892               3                              Kelly, Mr. James    male   \n",
       "893               3              Wilkes, Mrs. James (Ellen Needs)  female   \n",
       "894               2                     Myles, Mr. Thomas Francis    male   \n",
       "895               3                              Wirz, Mr. Albert    male   \n",
       "896               3  Hirvonen, Mrs. Alexander (Helga E Lindqvist)  female   \n",
       "\n",
       "              Age  SibSp  Parch   Ticket     Fare Cabin Embarked  \n",
       "PassengerId                                                       \n",
       "892          34.5      0      0   330911   7.8292   NaN        Q  \n",
       "893          47.0      1      0   363272   7.0000   NaN        S  \n",
       "894          62.0      0      0   240276   9.6875   NaN        Q  \n",
       "895          27.0      0      0   315154   8.6625   NaN        S  \n",
       "896          22.0      1      1  3101298  12.2875   NaN        S  "
      ]
     },
     "execution_count": 3,
     "metadata": {},
     "output_type": "execute_result"
    }
   ],
   "source": [
    "#PassengerId is not an exploitable feature but should be used as an index\n",
    "test_data = pd.read_csv(\"/kaggle/input/titanic/test.csv\", index_col='PassengerId')\n",
    "test_data.head()"
   ]
  },
  {
   "cell_type": "markdown",
   "id": "71f5e25c",
   "metadata": {
    "papermill": {
     "duration": 0.019207,
     "end_time": "2023-06-12T10:24:56.987300",
     "exception": false,
     "start_time": "2023-06-12T10:24:56.968093",
     "status": "completed"
    },
    "tags": []
   },
   "source": [
    "## **Data Exploration**"
   ]
  },
  {
   "cell_type": "code",
   "execution_count": 4,
   "id": "0111da6d",
   "metadata": {
    "execution": {
     "iopub.execute_input": "2023-06-12T10:24:57.027877Z",
     "iopub.status.busy": "2023-06-12T10:24:57.026349Z",
     "iopub.status.idle": "2023-06-12T10:24:57.058032Z",
     "shell.execute_reply": "2023-06-12T10:24:57.057262Z"
    },
    "papermill": {
     "duration": 0.053589,
     "end_time": "2023-06-12T10:24:57.060079",
     "exception": false,
     "start_time": "2023-06-12T10:24:57.006490",
     "status": "completed"
    },
    "tags": []
   },
   "outputs": [
    {
     "name": "stdout",
     "output_type": "stream",
     "text": [
      "Info of the train dataset \n",
      "\n",
      "<class 'pandas.core.frame.DataFrame'>\n",
      "Int64Index: 891 entries, 1 to 891\n",
      "Data columns (total 11 columns):\n",
      " #   Column    Non-Null Count  Dtype  \n",
      "---  ------    --------------  -----  \n",
      " 0   Survived  891 non-null    int64  \n",
      " 1   Pclass    891 non-null    int64  \n",
      " 2   Name      891 non-null    object \n",
      " 3   Sex       891 non-null    object \n",
      " 4   Age       714 non-null    float64\n",
      " 5   SibSp     891 non-null    int64  \n",
      " 6   Parch     891 non-null    int64  \n",
      " 7   Ticket    891 non-null    object \n",
      " 8   Fare      891 non-null    float64\n",
      " 9   Cabin     204 non-null    object \n",
      " 10  Embarked  889 non-null    object \n",
      "dtypes: float64(2), int64(4), object(5)\n",
      "memory usage: 83.5+ KB\n"
     ]
    },
    {
     "data": {
      "text/plain": [
       "None"
      ]
     },
     "metadata": {},
     "output_type": "display_data"
    },
    {
     "name": "stdout",
     "output_type": "stream",
     "text": [
      "\n",
      "Info of the test dataset \n",
      "\n",
      "<class 'pandas.core.frame.DataFrame'>\n",
      "Int64Index: 418 entries, 892 to 1309\n",
      "Data columns (total 10 columns):\n",
      " #   Column    Non-Null Count  Dtype  \n",
      "---  ------    --------------  -----  \n",
      " 0   Pclass    418 non-null    int64  \n",
      " 1   Name      418 non-null    object \n",
      " 2   Sex       418 non-null    object \n",
      " 3   Age       332 non-null    float64\n",
      " 4   SibSp     418 non-null    int64  \n",
      " 5   Parch     418 non-null    int64  \n",
      " 6   Ticket    418 non-null    object \n",
      " 7   Fare      417 non-null    float64\n",
      " 8   Cabin     91 non-null     object \n",
      " 9   Embarked  418 non-null    object \n",
      "dtypes: float64(2), int64(3), object(5)\n",
      "memory usage: 35.9+ KB\n"
     ]
    },
    {
     "data": {
      "text/plain": [
       "None"
      ]
     },
     "metadata": {},
     "output_type": "display_data"
    }
   ],
   "source": [
    "print('Info of the train dataset \\n')\n",
    "display(train_data.info())\n",
    "\n",
    "print('\\nInfo of the test dataset \\n')\n",
    "display(test_data.info())"
   ]
  },
  {
   "cell_type": "markdown",
   "id": "5ae78ace",
   "metadata": {
    "papermill": {
     "duration": 0.01902,
     "end_time": "2023-06-12T10:24:57.098562",
     "exception": false,
     "start_time": "2023-06-12T10:24:57.079542",
     "status": "completed"
    },
    "tags": []
   },
   "source": [
    "#### Data description:\n",
    "\n",
    "**Survived** - Survival (0 = No; 1 = Yes)\n",
    "\n",
    "**Pclass** - Passenger Class (1 = 1st; 2 = 2nd; 3 = 3rd)\n",
    "\n",
    "**Name** - Passenger's Name\n",
    "\n",
    "**Sex** - Passenger's Sex\n",
    "\n",
    "**Age** - Passenger's Age\n",
    "\n",
    "**Sibsp** - Number of Siblings/Spouses Aboard\n",
    "\n",
    "**Parch** - Number of Parents/Children Aboard\n",
    "\n",
    "**Ticket** - Ticket Number\n",
    "\n",
    "**Fare** - Passenger Fare\n",
    "\n",
    "**Cabin** - Passenger's Cabin\n",
    "\n",
    "**Embarked** - Port of Embarkation (C = Cherbourg; Q = Queenstown; S = Southampton)"
   ]
  },
  {
   "cell_type": "code",
   "execution_count": 5,
   "id": "32a91f0a",
   "metadata": {
    "execution": {
     "iopub.execute_input": "2023-06-12T10:24:57.138580Z",
     "iopub.status.busy": "2023-06-12T10:24:57.138075Z",
     "iopub.status.idle": "2023-06-12T10:24:57.189893Z",
     "shell.execute_reply": "2023-06-12T10:24:57.188652Z"
    },
    "papermill": {
     "duration": 0.074486,
     "end_time": "2023-06-12T10:24:57.192113",
     "exception": false,
     "start_time": "2023-06-12T10:24:57.117627",
     "status": "completed"
    },
    "tags": []
   },
   "outputs": [
    {
     "name": "stdout",
     "output_type": "stream",
     "text": [
      "Description of the train dataset \n",
      "\n"
     ]
    },
    {
     "data": {
      "text/html": [
       "<div>\n",
       "<style scoped>\n",
       "    .dataframe tbody tr th:only-of-type {\n",
       "        vertical-align: middle;\n",
       "    }\n",
       "\n",
       "    .dataframe tbody tr th {\n",
       "        vertical-align: top;\n",
       "    }\n",
       "\n",
       "    .dataframe thead th {\n",
       "        text-align: right;\n",
       "    }\n",
       "</style>\n",
       "<table border=\"1\" class=\"dataframe\">\n",
       "  <thead>\n",
       "    <tr style=\"text-align: right;\">\n",
       "      <th></th>\n",
       "      <th>Survived</th>\n",
       "      <th>Pclass</th>\n",
       "      <th>Age</th>\n",
       "      <th>SibSp</th>\n",
       "      <th>Parch</th>\n",
       "      <th>Fare</th>\n",
       "    </tr>\n",
       "  </thead>\n",
       "  <tbody>\n",
       "    <tr>\n",
       "      <th>count</th>\n",
       "      <td>891.000000</td>\n",
       "      <td>891.000000</td>\n",
       "      <td>714.000000</td>\n",
       "      <td>891.000000</td>\n",
       "      <td>891.000000</td>\n",
       "      <td>891.000000</td>\n",
       "    </tr>\n",
       "    <tr>\n",
       "      <th>mean</th>\n",
       "      <td>0.383838</td>\n",
       "      <td>2.308642</td>\n",
       "      <td>29.699118</td>\n",
       "      <td>0.523008</td>\n",
       "      <td>0.381594</td>\n",
       "      <td>32.204208</td>\n",
       "    </tr>\n",
       "    <tr>\n",
       "      <th>std</th>\n",
       "      <td>0.486592</td>\n",
       "      <td>0.836071</td>\n",
       "      <td>14.526497</td>\n",
       "      <td>1.102743</td>\n",
       "      <td>0.806057</td>\n",
       "      <td>49.693429</td>\n",
       "    </tr>\n",
       "    <tr>\n",
       "      <th>min</th>\n",
       "      <td>0.000000</td>\n",
       "      <td>1.000000</td>\n",
       "      <td>0.420000</td>\n",
       "      <td>0.000000</td>\n",
       "      <td>0.000000</td>\n",
       "      <td>0.000000</td>\n",
       "    </tr>\n",
       "    <tr>\n",
       "      <th>25%</th>\n",
       "      <td>0.000000</td>\n",
       "      <td>2.000000</td>\n",
       "      <td>20.125000</td>\n",
       "      <td>0.000000</td>\n",
       "      <td>0.000000</td>\n",
       "      <td>7.910400</td>\n",
       "    </tr>\n",
       "    <tr>\n",
       "      <th>50%</th>\n",
       "      <td>0.000000</td>\n",
       "      <td>3.000000</td>\n",
       "      <td>28.000000</td>\n",
       "      <td>0.000000</td>\n",
       "      <td>0.000000</td>\n",
       "      <td>14.454200</td>\n",
       "    </tr>\n",
       "    <tr>\n",
       "      <th>75%</th>\n",
       "      <td>1.000000</td>\n",
       "      <td>3.000000</td>\n",
       "      <td>38.000000</td>\n",
       "      <td>1.000000</td>\n",
       "      <td>0.000000</td>\n",
       "      <td>31.000000</td>\n",
       "    </tr>\n",
       "    <tr>\n",
       "      <th>max</th>\n",
       "      <td>1.000000</td>\n",
       "      <td>3.000000</td>\n",
       "      <td>80.000000</td>\n",
       "      <td>8.000000</td>\n",
       "      <td>6.000000</td>\n",
       "      <td>512.329200</td>\n",
       "    </tr>\n",
       "  </tbody>\n",
       "</table>\n",
       "</div>"
      ],
      "text/plain": [
       "         Survived      Pclass         Age       SibSp       Parch        Fare\n",
       "count  891.000000  891.000000  714.000000  891.000000  891.000000  891.000000\n",
       "mean     0.383838    2.308642   29.699118    0.523008    0.381594   32.204208\n",
       "std      0.486592    0.836071   14.526497    1.102743    0.806057   49.693429\n",
       "min      0.000000    1.000000    0.420000    0.000000    0.000000    0.000000\n",
       "25%      0.000000    2.000000   20.125000    0.000000    0.000000    7.910400\n",
       "50%      0.000000    3.000000   28.000000    0.000000    0.000000   14.454200\n",
       "75%      1.000000    3.000000   38.000000    1.000000    0.000000   31.000000\n",
       "max      1.000000    3.000000   80.000000    8.000000    6.000000  512.329200"
      ]
     },
     "metadata": {},
     "output_type": "display_data"
    },
    {
     "name": "stdout",
     "output_type": "stream",
     "text": [
      "\n",
      "Description of the test dataset \n",
      "\n"
     ]
    },
    {
     "data": {
      "text/html": [
       "<div>\n",
       "<style scoped>\n",
       "    .dataframe tbody tr th:only-of-type {\n",
       "        vertical-align: middle;\n",
       "    }\n",
       "\n",
       "    .dataframe tbody tr th {\n",
       "        vertical-align: top;\n",
       "    }\n",
       "\n",
       "    .dataframe thead th {\n",
       "        text-align: right;\n",
       "    }\n",
       "</style>\n",
       "<table border=\"1\" class=\"dataframe\">\n",
       "  <thead>\n",
       "    <tr style=\"text-align: right;\">\n",
       "      <th></th>\n",
       "      <th>Pclass</th>\n",
       "      <th>Age</th>\n",
       "      <th>SibSp</th>\n",
       "      <th>Parch</th>\n",
       "      <th>Fare</th>\n",
       "    </tr>\n",
       "  </thead>\n",
       "  <tbody>\n",
       "    <tr>\n",
       "      <th>count</th>\n",
       "      <td>418.000000</td>\n",
       "      <td>332.000000</td>\n",
       "      <td>418.000000</td>\n",
       "      <td>418.000000</td>\n",
       "      <td>417.000000</td>\n",
       "    </tr>\n",
       "    <tr>\n",
       "      <th>mean</th>\n",
       "      <td>2.265550</td>\n",
       "      <td>30.272590</td>\n",
       "      <td>0.447368</td>\n",
       "      <td>0.392344</td>\n",
       "      <td>35.627188</td>\n",
       "    </tr>\n",
       "    <tr>\n",
       "      <th>std</th>\n",
       "      <td>0.841838</td>\n",
       "      <td>14.181209</td>\n",
       "      <td>0.896760</td>\n",
       "      <td>0.981429</td>\n",
       "      <td>55.907576</td>\n",
       "    </tr>\n",
       "    <tr>\n",
       "      <th>min</th>\n",
       "      <td>1.000000</td>\n",
       "      <td>0.170000</td>\n",
       "      <td>0.000000</td>\n",
       "      <td>0.000000</td>\n",
       "      <td>0.000000</td>\n",
       "    </tr>\n",
       "    <tr>\n",
       "      <th>25%</th>\n",
       "      <td>1.000000</td>\n",
       "      <td>21.000000</td>\n",
       "      <td>0.000000</td>\n",
       "      <td>0.000000</td>\n",
       "      <td>7.895800</td>\n",
       "    </tr>\n",
       "    <tr>\n",
       "      <th>50%</th>\n",
       "      <td>3.000000</td>\n",
       "      <td>27.000000</td>\n",
       "      <td>0.000000</td>\n",
       "      <td>0.000000</td>\n",
       "      <td>14.454200</td>\n",
       "    </tr>\n",
       "    <tr>\n",
       "      <th>75%</th>\n",
       "      <td>3.000000</td>\n",
       "      <td>39.000000</td>\n",
       "      <td>1.000000</td>\n",
       "      <td>0.000000</td>\n",
       "      <td>31.500000</td>\n",
       "    </tr>\n",
       "    <tr>\n",
       "      <th>max</th>\n",
       "      <td>3.000000</td>\n",
       "      <td>76.000000</td>\n",
       "      <td>8.000000</td>\n",
       "      <td>9.000000</td>\n",
       "      <td>512.329200</td>\n",
       "    </tr>\n",
       "  </tbody>\n",
       "</table>\n",
       "</div>"
      ],
      "text/plain": [
       "           Pclass         Age       SibSp       Parch        Fare\n",
       "count  418.000000  332.000000  418.000000  418.000000  417.000000\n",
       "mean     2.265550   30.272590    0.447368    0.392344   35.627188\n",
       "std      0.841838   14.181209    0.896760    0.981429   55.907576\n",
       "min      1.000000    0.170000    0.000000    0.000000    0.000000\n",
       "25%      1.000000   21.000000    0.000000    0.000000    7.895800\n",
       "50%      3.000000   27.000000    0.000000    0.000000   14.454200\n",
       "75%      3.000000   39.000000    1.000000    0.000000   31.500000\n",
       "max      3.000000   76.000000    8.000000    9.000000  512.329200"
      ]
     },
     "metadata": {},
     "output_type": "display_data"
    }
   ],
   "source": [
    "print('Description of the train dataset \\n')\n",
    "display(train_data.describe())\n",
    "\n",
    "print('\\nDescription of the test dataset \\n')\n",
    "display(test_data.describe())"
   ]
  },
  {
   "cell_type": "code",
   "execution_count": 6,
   "id": "b9d73e2c",
   "metadata": {
    "execution": {
     "iopub.execute_input": "2023-06-12T10:24:57.232255Z",
     "iopub.status.busy": "2023-06-12T10:24:57.231847Z",
     "iopub.status.idle": "2023-06-12T10:24:57.243766Z",
     "shell.execute_reply": "2023-06-12T10:24:57.242246Z"
    },
    "papermill": {
     "duration": 0.034675,
     "end_time": "2023-06-12T10:24:57.246423",
     "exception": false,
     "start_time": "2023-06-12T10:24:57.211748",
     "status": "completed"
    },
    "tags": []
   },
   "outputs": [
    {
     "name": "stdout",
     "output_type": "stream",
     "text": [
      "Training data contains 0 duplicated values\n",
      "Training data contains following missing values \n",
      " Survived      0\n",
      "Pclass        0\n",
      "Name          0\n",
      "Sex           0\n",
      "Age         177\n",
      "SibSp         0\n",
      "Parch         0\n",
      "Ticket        0\n",
      "Fare          0\n",
      "Cabin       687\n",
      "Embarked      2\n",
      "dtype: int64\n"
     ]
    }
   ],
   "source": [
    "print('Training data contains', train_data.duplicated().sum(), 'duplicated values')\n",
    "print('Training data contains following missing values \\n',train_data.isna().sum())"
   ]
  },
  {
   "cell_type": "code",
   "execution_count": 7,
   "id": "117a6c34",
   "metadata": {
    "execution": {
     "iopub.execute_input": "2023-06-12T10:24:57.286559Z",
     "iopub.status.busy": "2023-06-12T10:24:57.286165Z",
     "iopub.status.idle": "2023-06-12T10:24:57.294526Z",
     "shell.execute_reply": "2023-06-12T10:24:57.293729Z"
    },
    "papermill": {
     "duration": 0.031919,
     "end_time": "2023-06-12T10:24:57.297285",
     "exception": false,
     "start_time": "2023-06-12T10:24:57.265366",
     "status": "completed"
    },
    "tags": []
   },
   "outputs": [
    {
     "name": "stdout",
     "output_type": "stream",
     "text": [
      "Test data contains 0 duplicated values\n",
      "Test data contains following missing values \n",
      " Pclass        0\n",
      "Name          0\n",
      "Sex           0\n",
      "Age          86\n",
      "SibSp         0\n",
      "Parch         0\n",
      "Ticket        0\n",
      "Fare          1\n",
      "Cabin       327\n",
      "Embarked      0\n",
      "dtype: int64\n"
     ]
    }
   ],
   "source": [
    "print('Test data contains', test_data.duplicated().sum(), 'duplicated values')\n",
    "print('Test data contains following missing values \\n',test_data.isna().sum())"
   ]
  },
  {
   "cell_type": "code",
   "execution_count": 8,
   "id": "d940138f",
   "metadata": {
    "execution": {
     "iopub.execute_input": "2023-06-12T10:24:57.336749Z",
     "iopub.status.busy": "2023-06-12T10:24:57.336392Z",
     "iopub.status.idle": "2023-06-12T10:24:57.344546Z",
     "shell.execute_reply": "2023-06-12T10:24:57.342920Z"
    },
    "papermill": {
     "duration": 0.030504,
     "end_time": "2023-06-12T10:24:57.346770",
     "exception": false,
     "start_time": "2023-06-12T10:24:57.316266",
     "status": "completed"
    },
    "tags": []
   },
   "outputs": [
    {
     "name": "stdout",
     "output_type": "stream",
     "text": [
      "% of missing \"Cabin\" values in train_data : 0.7710437710437711\n",
      "% of missing \"Cabin\" values in test_data : 0.7822966507177034\n"
     ]
    }
   ],
   "source": [
    "#Too much missing values in the \"Cabin\" feature. It will be removed\n",
    "print('% of missing \"Cabin\" values in train_data :', train_data['Cabin'].isna().sum()/len(train_data))\n",
    "print('% of missing \"Cabin\" values in test_data :', test_data['Cabin'].isna().sum()/len(test_data))"
   ]
  },
  {
   "cell_type": "code",
   "execution_count": 9,
   "id": "45042b86",
   "metadata": {
    "execution": {
     "iopub.execute_input": "2023-06-12T10:24:57.388420Z",
     "iopub.status.busy": "2023-06-12T10:24:57.387159Z",
     "iopub.status.idle": "2023-06-12T10:24:57.395531Z",
     "shell.execute_reply": "2023-06-12T10:24:57.393868Z"
    },
    "papermill": {
     "duration": 0.031493,
     "end_time": "2023-06-12T10:24:57.397603",
     "exception": false,
     "start_time": "2023-06-12T10:24:57.366110",
     "status": "completed"
    },
    "tags": []
   },
   "outputs": [
    {
     "name": "stdout",
     "output_type": "stream",
     "text": [
      "% of missing \"Age\" values in train_data : 0.19865319865319866\n",
      "% of missing \"Age\" values in test_data : 0.20574162679425836\n"
     ]
    }
   ],
   "source": [
    "#Missing values of the \"Age\" feature could be replaced by the average age\n",
    "print('% of missing \"Age\" values in train_data :', train_data['Age'].isna().sum()/len(train_data))\n",
    "print('% of missing \"Age\" values in test_data :', test_data['Age'].isna().sum()/len(test_data))"
   ]
  },
  {
   "cell_type": "markdown",
   "id": "360ca53f",
   "metadata": {
    "papermill": {
     "duration": 0.018706,
     "end_time": "2023-06-12T10:24:57.435268",
     "exception": false,
     "start_time": "2023-06-12T10:24:57.416562",
     "status": "completed"
    },
    "tags": []
   },
   "source": [
    "## **Data Cleaning / Processing**"
   ]
  },
  {
   "cell_type": "markdown",
   "id": "2bef0f2c",
   "metadata": {
    "papermill": {
     "duration": 0.019534,
     "end_time": "2023-06-12T10:24:57.474370",
     "exception": false,
     "start_time": "2023-06-12T10:24:57.454836",
     "status": "completed"
    },
    "tags": []
   },
   "source": [
    "### Features impact on the survival"
   ]
  },
  {
   "cell_type": "code",
   "execution_count": 10,
   "id": "b15ce6be",
   "metadata": {
    "execution": {
     "iopub.execute_input": "2023-06-12T10:24:57.514478Z",
     "iopub.status.busy": "2023-06-12T10:24:57.514077Z",
     "iopub.status.idle": "2023-06-12T10:24:57.544644Z",
     "shell.execute_reply": "2023-06-12T10:24:57.542968Z"
    },
    "papermill": {
     "duration": 0.053799,
     "end_time": "2023-06-12T10:24:57.547402",
     "exception": false,
     "start_time": "2023-06-12T10:24:57.493603",
     "status": "completed"
    },
    "tags": []
   },
   "outputs": [
    {
     "name": "stdout",
     "output_type": "stream",
     "text": [
      "New train dataset \n",
      "\n"
     ]
    },
    {
     "data": {
      "text/html": [
       "<div>\n",
       "<style scoped>\n",
       "    .dataframe tbody tr th:only-of-type {\n",
       "        vertical-align: middle;\n",
       "    }\n",
       "\n",
       "    .dataframe tbody tr th {\n",
       "        vertical-align: top;\n",
       "    }\n",
       "\n",
       "    .dataframe thead th {\n",
       "        text-align: right;\n",
       "    }\n",
       "</style>\n",
       "<table border=\"1\" class=\"dataframe\">\n",
       "  <thead>\n",
       "    <tr style=\"text-align: right;\">\n",
       "      <th></th>\n",
       "      <th>Survived</th>\n",
       "      <th>Pclass</th>\n",
       "      <th>Sex</th>\n",
       "      <th>Age</th>\n",
       "      <th>SibSp</th>\n",
       "      <th>Parch</th>\n",
       "      <th>Fare</th>\n",
       "      <th>Cabin</th>\n",
       "      <th>Embarked</th>\n",
       "    </tr>\n",
       "    <tr>\n",
       "      <th>PassengerId</th>\n",
       "      <th></th>\n",
       "      <th></th>\n",
       "      <th></th>\n",
       "      <th></th>\n",
       "      <th></th>\n",
       "      <th></th>\n",
       "      <th></th>\n",
       "      <th></th>\n",
       "      <th></th>\n",
       "    </tr>\n",
       "  </thead>\n",
       "  <tbody>\n",
       "    <tr>\n",
       "      <th>1</th>\n",
       "      <td>0</td>\n",
       "      <td>3</td>\n",
       "      <td>male</td>\n",
       "      <td>22.0</td>\n",
       "      <td>1</td>\n",
       "      <td>0</td>\n",
       "      <td>7.2500</td>\n",
       "      <td>NaN</td>\n",
       "      <td>S</td>\n",
       "    </tr>\n",
       "    <tr>\n",
       "      <th>2</th>\n",
       "      <td>1</td>\n",
       "      <td>1</td>\n",
       "      <td>female</td>\n",
       "      <td>38.0</td>\n",
       "      <td>1</td>\n",
       "      <td>0</td>\n",
       "      <td>71.2833</td>\n",
       "      <td>C85</td>\n",
       "      <td>C</td>\n",
       "    </tr>\n",
       "    <tr>\n",
       "      <th>3</th>\n",
       "      <td>1</td>\n",
       "      <td>3</td>\n",
       "      <td>female</td>\n",
       "      <td>26.0</td>\n",
       "      <td>0</td>\n",
       "      <td>0</td>\n",
       "      <td>7.9250</td>\n",
       "      <td>NaN</td>\n",
       "      <td>S</td>\n",
       "    </tr>\n",
       "    <tr>\n",
       "      <th>4</th>\n",
       "      <td>1</td>\n",
       "      <td>1</td>\n",
       "      <td>female</td>\n",
       "      <td>35.0</td>\n",
       "      <td>1</td>\n",
       "      <td>0</td>\n",
       "      <td>53.1000</td>\n",
       "      <td>C123</td>\n",
       "      <td>S</td>\n",
       "    </tr>\n",
       "    <tr>\n",
       "      <th>5</th>\n",
       "      <td>0</td>\n",
       "      <td>3</td>\n",
       "      <td>male</td>\n",
       "      <td>35.0</td>\n",
       "      <td>0</td>\n",
       "      <td>0</td>\n",
       "      <td>8.0500</td>\n",
       "      <td>NaN</td>\n",
       "      <td>S</td>\n",
       "    </tr>\n",
       "  </tbody>\n",
       "</table>\n",
       "</div>"
      ],
      "text/plain": [
       "             Survived  Pclass     Sex   Age  SibSp  Parch     Fare Cabin  \\\n",
       "PassengerId                                                                \n",
       "1                   0       3    male  22.0      1      0   7.2500   NaN   \n",
       "2                   1       1  female  38.0      1      0  71.2833   C85   \n",
       "3                   1       3  female  26.0      0      0   7.9250   NaN   \n",
       "4                   1       1  female  35.0      1      0  53.1000  C123   \n",
       "5                   0       3    male  35.0      0      0   8.0500   NaN   \n",
       "\n",
       "            Embarked  \n",
       "PassengerId           \n",
       "1                  S  \n",
       "2                  C  \n",
       "3                  S  \n",
       "4                  S  \n",
       "5                  S  "
      ]
     },
     "metadata": {},
     "output_type": "display_data"
    },
    {
     "name": "stdout",
     "output_type": "stream",
     "text": [
      "\n",
      " New test dataset \n",
      "\n"
     ]
    },
    {
     "data": {
      "text/html": [
       "<div>\n",
       "<style scoped>\n",
       "    .dataframe tbody tr th:only-of-type {\n",
       "        vertical-align: middle;\n",
       "    }\n",
       "\n",
       "    .dataframe tbody tr th {\n",
       "        vertical-align: top;\n",
       "    }\n",
       "\n",
       "    .dataframe thead th {\n",
       "        text-align: right;\n",
       "    }\n",
       "</style>\n",
       "<table border=\"1\" class=\"dataframe\">\n",
       "  <thead>\n",
       "    <tr style=\"text-align: right;\">\n",
       "      <th></th>\n",
       "      <th>Pclass</th>\n",
       "      <th>Sex</th>\n",
       "      <th>Age</th>\n",
       "      <th>SibSp</th>\n",
       "      <th>Parch</th>\n",
       "      <th>Fare</th>\n",
       "      <th>Cabin</th>\n",
       "      <th>Embarked</th>\n",
       "    </tr>\n",
       "    <tr>\n",
       "      <th>PassengerId</th>\n",
       "      <th></th>\n",
       "      <th></th>\n",
       "      <th></th>\n",
       "      <th></th>\n",
       "      <th></th>\n",
       "      <th></th>\n",
       "      <th></th>\n",
       "      <th></th>\n",
       "    </tr>\n",
       "  </thead>\n",
       "  <tbody>\n",
       "    <tr>\n",
       "      <th>892</th>\n",
       "      <td>3</td>\n",
       "      <td>male</td>\n",
       "      <td>34.5</td>\n",
       "      <td>0</td>\n",
       "      <td>0</td>\n",
       "      <td>7.8292</td>\n",
       "      <td>NaN</td>\n",
       "      <td>Q</td>\n",
       "    </tr>\n",
       "    <tr>\n",
       "      <th>893</th>\n",
       "      <td>3</td>\n",
       "      <td>female</td>\n",
       "      <td>47.0</td>\n",
       "      <td>1</td>\n",
       "      <td>0</td>\n",
       "      <td>7.0000</td>\n",
       "      <td>NaN</td>\n",
       "      <td>S</td>\n",
       "    </tr>\n",
       "    <tr>\n",
       "      <th>894</th>\n",
       "      <td>2</td>\n",
       "      <td>male</td>\n",
       "      <td>62.0</td>\n",
       "      <td>0</td>\n",
       "      <td>0</td>\n",
       "      <td>9.6875</td>\n",
       "      <td>NaN</td>\n",
       "      <td>Q</td>\n",
       "    </tr>\n",
       "    <tr>\n",
       "      <th>895</th>\n",
       "      <td>3</td>\n",
       "      <td>male</td>\n",
       "      <td>27.0</td>\n",
       "      <td>0</td>\n",
       "      <td>0</td>\n",
       "      <td>8.6625</td>\n",
       "      <td>NaN</td>\n",
       "      <td>S</td>\n",
       "    </tr>\n",
       "    <tr>\n",
       "      <th>896</th>\n",
       "      <td>3</td>\n",
       "      <td>female</td>\n",
       "      <td>22.0</td>\n",
       "      <td>1</td>\n",
       "      <td>1</td>\n",
       "      <td>12.2875</td>\n",
       "      <td>NaN</td>\n",
       "      <td>S</td>\n",
       "    </tr>\n",
       "  </tbody>\n",
       "</table>\n",
       "</div>"
      ],
      "text/plain": [
       "             Pclass     Sex   Age  SibSp  Parch     Fare Cabin Embarked\n",
       "PassengerId                                                            \n",
       "892               3    male  34.5      0      0   7.8292   NaN        Q\n",
       "893               3  female  47.0      1      0   7.0000   NaN        S\n",
       "894               2    male  62.0      0      0   9.6875   NaN        Q\n",
       "895               3    male  27.0      0      0   8.6625   NaN        S\n",
       "896               3  female  22.0      1      1  12.2875   NaN        S"
      ]
     },
     "metadata": {},
     "output_type": "display_data"
    }
   ],
   "source": [
    "#The name of passengers has no impact on the survival\n",
    "# Same for the ticket number\n",
    "train_data = train_data.drop(['Name', 'Ticket'], axis = 1)\n",
    "test_data = test_data.drop(['Name', 'Ticket'], axis = 1)\n",
    "\n",
    "print('New train dataset \\n')\n",
    "display(train_data.head())\n",
    "\n",
    "print('\\n New test dataset \\n')\n",
    "display(test_data.head())"
   ]
  },
  {
   "cell_type": "markdown",
   "id": "ba8f5a5d",
   "metadata": {
    "papermill": {
     "duration": 0.019115,
     "end_time": "2023-06-12T10:24:57.586057",
     "exception": false,
     "start_time": "2023-06-12T10:24:57.566942",
     "status": "completed"
    },
    "tags": []
   },
   "source": [
    "### Types of the features"
   ]
  },
  {
   "cell_type": "code",
   "execution_count": 11,
   "id": "d192754c",
   "metadata": {
    "execution": {
     "iopub.execute_input": "2023-06-12T10:24:57.627221Z",
     "iopub.status.busy": "2023-06-12T10:24:57.626811Z",
     "iopub.status.idle": "2023-06-12T10:24:57.655958Z",
     "shell.execute_reply": "2023-06-12T10:24:57.654239Z"
    },
    "papermill": {
     "duration": 0.052781,
     "end_time": "2023-06-12T10:24:57.658647",
     "exception": false,
     "start_time": "2023-06-12T10:24:57.605866",
     "status": "completed"
    },
    "tags": []
   },
   "outputs": [
    {
     "name": "stdout",
     "output_type": "stream",
     "text": [
      "Info of the train dataset \n",
      "\n",
      "<class 'pandas.core.frame.DataFrame'>\n",
      "Int64Index: 891 entries, 1 to 891\n",
      "Data columns (total 9 columns):\n",
      " #   Column    Non-Null Count  Dtype  \n",
      "---  ------    --------------  -----  \n",
      " 0   Survived  891 non-null    object \n",
      " 1   Pclass    891 non-null    object \n",
      " 2   Sex       891 non-null    object \n",
      " 3   Age       714 non-null    float64\n",
      " 4   SibSp     891 non-null    int64  \n",
      " 5   Parch     891 non-null    int64  \n",
      " 6   Fare      891 non-null    float64\n",
      " 7   Cabin     204 non-null    object \n",
      " 8   Embarked  889 non-null    object \n",
      "dtypes: float64(2), int64(2), object(5)\n",
      "memory usage: 69.6+ KB\n"
     ]
    },
    {
     "data": {
      "text/plain": [
       "None"
      ]
     },
     "metadata": {},
     "output_type": "display_data"
    },
    {
     "name": "stdout",
     "output_type": "stream",
     "text": [
      "\n",
      "Info of the test dataset \n",
      "\n",
      "<class 'pandas.core.frame.DataFrame'>\n",
      "Int64Index: 418 entries, 892 to 1309\n",
      "Data columns (total 8 columns):\n",
      " #   Column    Non-Null Count  Dtype  \n",
      "---  ------    --------------  -----  \n",
      " 0   Pclass    418 non-null    object \n",
      " 1   Sex       418 non-null    object \n",
      " 2   Age       332 non-null    float64\n",
      " 3   SibSp     418 non-null    int64  \n",
      " 4   Parch     418 non-null    int64  \n",
      " 5   Fare      417 non-null    float64\n",
      " 6   Cabin     91 non-null     object \n",
      " 7   Embarked  418 non-null    object \n",
      "dtypes: float64(2), int64(2), object(4)\n",
      "memory usage: 29.4+ KB\n"
     ]
    },
    {
     "data": {
      "text/plain": [
       "None"
      ]
     },
     "metadata": {},
     "output_type": "display_data"
    }
   ],
   "source": [
    "#The Survived and Pclass features should be considered as categorical, not numerical\n",
    "train_data['Survived'] = train_data['Survived'].astype('str')\n",
    "train_data['Pclass'] = train_data['Pclass'].astype('str')\n",
    "test_data['Pclass'] = test_data['Pclass'].astype('str')\n",
    "\n",
    "#Let's check the modifications\n",
    "print('Info of the train dataset \\n')\n",
    "display(train_data.info())\n",
    "\n",
    "print('\\nInfo of the test dataset \\n')\n",
    "display(test_data.info())"
   ]
  },
  {
   "cell_type": "markdown",
   "id": "a49d27cc",
   "metadata": {
    "papermill": {
     "duration": 0.019485,
     "end_time": "2023-06-12T10:24:57.698209",
     "exception": false,
     "start_time": "2023-06-12T10:24:57.678724",
     "status": "completed"
    },
    "tags": []
   },
   "source": [
    "### Missing values treatment"
   ]
  },
  {
   "cell_type": "code",
   "execution_count": 12,
   "id": "d319d032",
   "metadata": {
    "execution": {
     "iopub.execute_input": "2023-06-12T10:24:57.738925Z",
     "iopub.status.busy": "2023-06-12T10:24:57.738585Z",
     "iopub.status.idle": "2023-06-12T10:24:57.763237Z",
     "shell.execute_reply": "2023-06-12T10:24:57.761523Z"
    },
    "papermill": {
     "duration": 0.047597,
     "end_time": "2023-06-12T10:24:57.765474",
     "exception": false,
     "start_time": "2023-06-12T10:24:57.717877",
     "status": "completed"
    },
    "tags": []
   },
   "outputs": [
    {
     "name": "stdout",
     "output_type": "stream",
     "text": [
      "New train dataset \n",
      "\n"
     ]
    },
    {
     "data": {
      "text/html": [
       "<div>\n",
       "<style scoped>\n",
       "    .dataframe tbody tr th:only-of-type {\n",
       "        vertical-align: middle;\n",
       "    }\n",
       "\n",
       "    .dataframe tbody tr th {\n",
       "        vertical-align: top;\n",
       "    }\n",
       "\n",
       "    .dataframe thead th {\n",
       "        text-align: right;\n",
       "    }\n",
       "</style>\n",
       "<table border=\"1\" class=\"dataframe\">\n",
       "  <thead>\n",
       "    <tr style=\"text-align: right;\">\n",
       "      <th></th>\n",
       "      <th>Survived</th>\n",
       "      <th>Pclass</th>\n",
       "      <th>Sex</th>\n",
       "      <th>Age</th>\n",
       "      <th>SibSp</th>\n",
       "      <th>Parch</th>\n",
       "      <th>Fare</th>\n",
       "      <th>Embarked</th>\n",
       "    </tr>\n",
       "    <tr>\n",
       "      <th>PassengerId</th>\n",
       "      <th></th>\n",
       "      <th></th>\n",
       "      <th></th>\n",
       "      <th></th>\n",
       "      <th></th>\n",
       "      <th></th>\n",
       "      <th></th>\n",
       "      <th></th>\n",
       "    </tr>\n",
       "  </thead>\n",
       "  <tbody>\n",
       "    <tr>\n",
       "      <th>1</th>\n",
       "      <td>0</td>\n",
       "      <td>3</td>\n",
       "      <td>male</td>\n",
       "      <td>22.0</td>\n",
       "      <td>1</td>\n",
       "      <td>0</td>\n",
       "      <td>7.2500</td>\n",
       "      <td>S</td>\n",
       "    </tr>\n",
       "    <tr>\n",
       "      <th>2</th>\n",
       "      <td>1</td>\n",
       "      <td>1</td>\n",
       "      <td>female</td>\n",
       "      <td>38.0</td>\n",
       "      <td>1</td>\n",
       "      <td>0</td>\n",
       "      <td>71.2833</td>\n",
       "      <td>C</td>\n",
       "    </tr>\n",
       "    <tr>\n",
       "      <th>3</th>\n",
       "      <td>1</td>\n",
       "      <td>3</td>\n",
       "      <td>female</td>\n",
       "      <td>26.0</td>\n",
       "      <td>0</td>\n",
       "      <td>0</td>\n",
       "      <td>7.9250</td>\n",
       "      <td>S</td>\n",
       "    </tr>\n",
       "    <tr>\n",
       "      <th>4</th>\n",
       "      <td>1</td>\n",
       "      <td>1</td>\n",
       "      <td>female</td>\n",
       "      <td>35.0</td>\n",
       "      <td>1</td>\n",
       "      <td>0</td>\n",
       "      <td>53.1000</td>\n",
       "      <td>S</td>\n",
       "    </tr>\n",
       "    <tr>\n",
       "      <th>5</th>\n",
       "      <td>0</td>\n",
       "      <td>3</td>\n",
       "      <td>male</td>\n",
       "      <td>35.0</td>\n",
       "      <td>0</td>\n",
       "      <td>0</td>\n",
       "      <td>8.0500</td>\n",
       "      <td>S</td>\n",
       "    </tr>\n",
       "  </tbody>\n",
       "</table>\n",
       "</div>"
      ],
      "text/plain": [
       "            Survived Pclass     Sex   Age  SibSp  Parch     Fare Embarked\n",
       "PassengerId                                                              \n",
       "1                  0      3    male  22.0      1      0   7.2500        S\n",
       "2                  1      1  female  38.0      1      0  71.2833        C\n",
       "3                  1      3  female  26.0      0      0   7.9250        S\n",
       "4                  1      1  female  35.0      1      0  53.1000        S\n",
       "5                  0      3    male  35.0      0      0   8.0500        S"
      ]
     },
     "metadata": {},
     "output_type": "display_data"
    },
    {
     "name": "stdout",
     "output_type": "stream",
     "text": [
      "\n",
      " New test dataset \n",
      "\n"
     ]
    },
    {
     "data": {
      "text/html": [
       "<div>\n",
       "<style scoped>\n",
       "    .dataframe tbody tr th:only-of-type {\n",
       "        vertical-align: middle;\n",
       "    }\n",
       "\n",
       "    .dataframe tbody tr th {\n",
       "        vertical-align: top;\n",
       "    }\n",
       "\n",
       "    .dataframe thead th {\n",
       "        text-align: right;\n",
       "    }\n",
       "</style>\n",
       "<table border=\"1\" class=\"dataframe\">\n",
       "  <thead>\n",
       "    <tr style=\"text-align: right;\">\n",
       "      <th></th>\n",
       "      <th>Pclass</th>\n",
       "      <th>Sex</th>\n",
       "      <th>Age</th>\n",
       "      <th>SibSp</th>\n",
       "      <th>Parch</th>\n",
       "      <th>Fare</th>\n",
       "      <th>Embarked</th>\n",
       "    </tr>\n",
       "    <tr>\n",
       "      <th>PassengerId</th>\n",
       "      <th></th>\n",
       "      <th></th>\n",
       "      <th></th>\n",
       "      <th></th>\n",
       "      <th></th>\n",
       "      <th></th>\n",
       "      <th></th>\n",
       "    </tr>\n",
       "  </thead>\n",
       "  <tbody>\n",
       "    <tr>\n",
       "      <th>892</th>\n",
       "      <td>3</td>\n",
       "      <td>male</td>\n",
       "      <td>34.5</td>\n",
       "      <td>0</td>\n",
       "      <td>0</td>\n",
       "      <td>7.8292</td>\n",
       "      <td>Q</td>\n",
       "    </tr>\n",
       "    <tr>\n",
       "      <th>893</th>\n",
       "      <td>3</td>\n",
       "      <td>female</td>\n",
       "      <td>47.0</td>\n",
       "      <td>1</td>\n",
       "      <td>0</td>\n",
       "      <td>7.0000</td>\n",
       "      <td>S</td>\n",
       "    </tr>\n",
       "    <tr>\n",
       "      <th>894</th>\n",
       "      <td>2</td>\n",
       "      <td>male</td>\n",
       "      <td>62.0</td>\n",
       "      <td>0</td>\n",
       "      <td>0</td>\n",
       "      <td>9.6875</td>\n",
       "      <td>Q</td>\n",
       "    </tr>\n",
       "    <tr>\n",
       "      <th>895</th>\n",
       "      <td>3</td>\n",
       "      <td>male</td>\n",
       "      <td>27.0</td>\n",
       "      <td>0</td>\n",
       "      <td>0</td>\n",
       "      <td>8.6625</td>\n",
       "      <td>S</td>\n",
       "    </tr>\n",
       "    <tr>\n",
       "      <th>896</th>\n",
       "      <td>3</td>\n",
       "      <td>female</td>\n",
       "      <td>22.0</td>\n",
       "      <td>1</td>\n",
       "      <td>1</td>\n",
       "      <td>12.2875</td>\n",
       "      <td>S</td>\n",
       "    </tr>\n",
       "  </tbody>\n",
       "</table>\n",
       "</div>"
      ],
      "text/plain": [
       "            Pclass     Sex   Age  SibSp  Parch     Fare Embarked\n",
       "PassengerId                                                     \n",
       "892              3    male  34.5      0      0   7.8292        Q\n",
       "893              3  female  47.0      1      0   7.0000        S\n",
       "894              2    male  62.0      0      0   9.6875        Q\n",
       "895              3    male  27.0      0      0   8.6625        S\n",
       "896              3  female  22.0      1      1  12.2875        S"
      ]
     },
     "metadata": {},
     "output_type": "display_data"
    }
   ],
   "source": [
    "#Almost 80% of missing values for the \"Cabin\". The feature should be removed\n",
    "train_data = train_data.drop(['Cabin'], axis = 1)\n",
    "test_data = test_data.drop(['Cabin'], axis = 1)\n",
    "\n",
    "print('New train dataset \\n')\n",
    "display(train_data.head())\n",
    "\n",
    "print('\\n New test dataset \\n')\n",
    "display(test_data.head())"
   ]
  },
  {
   "cell_type": "code",
   "execution_count": 13,
   "id": "e517968d",
   "metadata": {
    "execution": {
     "iopub.execute_input": "2023-06-12T10:24:57.807702Z",
     "iopub.status.busy": "2023-06-12T10:24:57.807340Z",
     "iopub.status.idle": "2023-06-12T10:24:57.818880Z",
     "shell.execute_reply": "2023-06-12T10:24:57.817641Z"
    },
    "papermill": {
     "duration": 0.03614,
     "end_time": "2023-06-12T10:24:57.821611",
     "exception": false,
     "start_time": "2023-06-12T10:24:57.785471",
     "status": "completed"
    },
    "tags": []
   },
   "outputs": [
    {
     "name": "stdout",
     "output_type": "stream",
     "text": [
      "Train data contains following missing values \n",
      " Survived    0\n",
      "Pclass      0\n",
      "Sex         0\n",
      "Age         0\n",
      "SibSp       0\n",
      "Parch       0\n",
      "Fare        0\n",
      "Embarked    2\n",
      "dtype: int64\n",
      "Test data contains following missing values \n",
      " Pclass      0\n",
      "Sex         0\n",
      "Age         0\n",
      "SibSp       0\n",
      "Parch       0\n",
      "Fare        1\n",
      "Embarked    0\n",
      "dtype: int64\n"
     ]
    }
   ],
   "source": [
    "#We replace the \"Age\" missing values by the average age\n",
    "train_data['Age'] = train_data['Age'].fillna(train_data['Age'].mean())\n",
    "test_data['Age'] = test_data['Age'].fillna(test_data['Age'].mean())\n",
    "\n",
    "#We check there are no more missing values in the datasets\n",
    "print('Train data contains following missing values \\n',train_data.isna().sum())\n",
    "print('Test data contains following missing values \\n',test_data.isna().sum())"
   ]
  },
  {
   "cell_type": "code",
   "execution_count": 14,
   "id": "ca35db49",
   "metadata": {
    "execution": {
     "iopub.execute_input": "2023-06-12T10:24:57.864361Z",
     "iopub.status.busy": "2023-06-12T10:24:57.863936Z",
     "iopub.status.idle": "2023-06-12T10:24:57.877116Z",
     "shell.execute_reply": "2023-06-12T10:24:57.875731Z"
    },
    "papermill": {
     "duration": 0.03752,
     "end_time": "2023-06-12T10:24:57.879479",
     "exception": false,
     "start_time": "2023-06-12T10:24:57.841959",
     "status": "completed"
    },
    "tags": []
   },
   "outputs": [
    {
     "name": "stdout",
     "output_type": "stream",
     "text": [
      "Train data contains following missing values \n",
      " Survived    0\n",
      "Pclass      0\n",
      "Sex         0\n",
      "Age         0\n",
      "SibSp       0\n",
      "Parch       0\n",
      "Fare        0\n",
      "Embarked    0\n",
      "dtype: int64\n",
      "Test data contains following missing values \n",
      " Pclass      0\n",
      "Sex         0\n",
      "Age         0\n",
      "SibSp       0\n",
      "Parch       0\n",
      "Fare        0\n",
      "Embarked    0\n",
      "dtype: int64\n"
     ]
    }
   ],
   "source": [
    "#We replace the missing values from the columns \"Fare\" and \"Embarked\"\n",
    "\n",
    "train_data['Embarked'] = train_data['Embarked'].fillna(train_data['Embarked'].mode()[0])\n",
    "test_data['Fare'] = test_data['Fare'].fillna(test_data['Fare'].mean())\n",
    "\n",
    "#Let's check there are no more missing values\n",
    "print('Train data contains following missing values \\n',train_data.isna().sum())\n",
    "print('Test data contains following missing values \\n',test_data.isna().sum())"
   ]
  },
  {
   "cell_type": "markdown",
   "id": "7804278d",
   "metadata": {
    "papermill": {
     "duration": 0.020319,
     "end_time": "2023-06-12T10:24:57.920443",
     "exception": false,
     "start_time": "2023-06-12T10:24:57.900124",
     "status": "completed"
    },
    "tags": []
   },
   "source": [
    "## **Statistical analysis - Feature correlations**"
   ]
  },
  {
   "cell_type": "markdown",
   "id": "983e80f0",
   "metadata": {
    "papermill": {
     "duration": 0.020244,
     "end_time": "2023-06-12T10:24:57.961353",
     "exception": false,
     "start_time": "2023-06-12T10:24:57.941109",
     "status": "completed"
    },
    "tags": []
   },
   "source": [
    "### Heatmap"
   ]
  },
  {
   "cell_type": "code",
   "execution_count": 15,
   "id": "e6436832",
   "metadata": {
    "execution": {
     "iopub.execute_input": "2023-06-12T10:24:58.003732Z",
     "iopub.status.busy": "2023-06-12T10:24:58.003399Z",
     "iopub.status.idle": "2023-06-12T10:24:58.267970Z",
     "shell.execute_reply": "2023-06-12T10:24:58.266988Z"
    },
    "papermill": {
     "duration": 0.288514,
     "end_time": "2023-06-12T10:24:58.270061",
     "exception": false,
     "start_time": "2023-06-12T10:24:57.981547",
     "status": "completed"
    },
    "tags": []
   },
   "outputs": [
    {
     "data": {
      "image/png": "[encoded data removed]",
      "text/plain": [
       "<Figure size 500x500 with 2 Axes>"
      ]
     },
     "metadata": {},
     "output_type": "display_data"
    }
   ],
   "source": [
    "# Display correlations between numerical features\n",
    "fig, ax = plt.subplots(figsize = (5, 5))\n",
    "sns.heatmap(train_data.corr(), annot = True, ax = ax, cmap = 'magma');"
   ]
  },
  {
   "cell_type": "markdown",
   "id": "ad19291b",
   "metadata": {
    "papermill": {
     "duration": 0.020609,
     "end_time": "2023-06-12T10:24:58.311664",
     "exception": false,
     "start_time": "2023-06-12T10:24:58.291055",
     "status": "completed"
    },
    "tags": []
   },
   "source": [
    "#### The Heatmap shows there are no significant correlations between the numerical features. We can notice a link between the features \"Parch\" and \"SibSp\" both related to the familial statuses of the passengers. "
   ]
  },
  {
   "cell_type": "markdown",
   "id": "b05f8c35",
   "metadata": {
    "papermill": {
     "duration": 0.020475,
     "end_time": "2023-06-12T10:24:58.353604",
     "exception": false,
     "start_time": "2023-06-12T10:24:58.333129",
     "status": "completed"
    },
    "tags": []
   },
   "source": [
    "### Categorical features - Sex"
   ]
  },
  {
   "cell_type": "code",
   "execution_count": 16,
   "id": "4c08e16b",
   "metadata": {
    "execution": {
     "iopub.execute_input": "2023-06-12T10:24:58.399197Z",
     "iopub.status.busy": "2023-06-12T10:24:58.398452Z",
     "iopub.status.idle": "2023-06-12T10:24:58.570106Z",
     "shell.execute_reply": "2023-06-12T10:24:58.568386Z"
    },
    "papermill": {
     "duration": 0.19825,
     "end_time": "2023-06-12T10:24:58.572341",
     "exception": false,
     "start_time": "2023-06-12T10:24:58.374091",
     "status": "completed"
    },
    "tags": []
   },
   "outputs": [
    {
     "data": {
      "image/png": "[encoded data removed]",
      "text/plain": [
       "<Figure size 640x480 with 1 Axes>"
      ]
     },
     "metadata": {},
     "output_type": "display_data"
    }
   ],
   "source": [
    "# Repartition by passengers sex and survival state\n",
    "sns.countplot(x = train_data.Sex, hue=train_data.Survived)\n",
    "plt.title(\"Train data - Distribution of Titanic's passengers's sex\")\n",
    "plt.xlabel(\"Sex\");"
   ]
  },
  {
   "cell_type": "markdown",
   "id": "97d87085",
   "metadata": {
    "papermill": {
     "duration": 0.020544,
     "end_time": "2023-06-12T10:24:58.613911",
     "exception": false,
     "start_time": "2023-06-12T10:24:58.593367",
     "status": "completed"
    },
    "tags": []
   },
   "source": [
    "#### It seems there is a correlation between the sex and the survival. Let's check it with a chi2 contingency test."
   ]
  },
  {
   "cell_type": "code",
   "execution_count": 17,
   "id": "bf829d4f",
   "metadata": {
    "execution": {
     "iopub.execute_input": "2023-06-12T10:24:58.657326Z",
     "iopub.status.busy": "2023-06-12T10:24:58.656952Z",
     "iopub.status.idle": "2023-06-12T10:24:58.682130Z",
     "shell.execute_reply": "2023-06-12T10:24:58.681363Z"
    },
    "papermill": {
     "duration": 0.049335,
     "end_time": "2023-06-12T10:24:58.684142",
     "exception": false,
     "start_time": "2023-06-12T10:24:58.634807",
     "status": "completed"
    },
    "tags": []
   },
   "outputs": [
    {
     "data": {
      "text/html": [
       "<div>\n",
       "<style scoped>\n",
       "    .dataframe tbody tr th:only-of-type {\n",
       "        vertical-align: middle;\n",
       "    }\n",
       "\n",
       "    .dataframe tbody tr th {\n",
       "        vertical-align: top;\n",
       "    }\n",
       "\n",
       "    .dataframe thead th {\n",
       "        text-align: right;\n",
       "    }\n",
       "</style>\n",
       "<table border=\"1\" class=\"dataframe\">\n",
       "  <thead>\n",
       "    <tr style=\"text-align: right;\">\n",
       "      <th>Survived</th>\n",
       "      <th>0</th>\n",
       "      <th>1</th>\n",
       "    </tr>\n",
       "    <tr>\n",
       "      <th>Sex</th>\n",
       "      <th></th>\n",
       "      <th></th>\n",
       "    </tr>\n",
       "  </thead>\n",
       "  <tbody>\n",
       "    <tr>\n",
       "      <th>female</th>\n",
       "      <td>81</td>\n",
       "      <td>233</td>\n",
       "    </tr>\n",
       "    <tr>\n",
       "      <th>male</th>\n",
       "      <td>468</td>\n",
       "      <td>109</td>\n",
       "    </tr>\n",
       "  </tbody>\n",
       "</table>\n",
       "</div>"
      ],
      "text/plain": [
       "Survived    0    1\n",
       "Sex               \n",
       "female     81  233\n",
       "male      468  109"
      ]
     },
     "metadata": {},
     "output_type": "display_data"
    },
    {
     "name": "stdout",
     "output_type": "stream",
     "text": [
      "The p-value is: 1.1973570627755645e-58\n"
     ]
    }
   ],
   "source": [
    "from scipy.stats import chi2_contingency\n",
    "\n",
    "contingency_sex = pd.crosstab(train_data['Sex'], train_data['Survived'])\n",
    "display(contingency_sex)\n",
    "\n",
    "#Chi2 test on the contingency table\n",
    "chi2_sex = chi2_contingency(contingency_sex)\n",
    "\n",
    "# H0 : There is no influence between the sex and the survival\n",
    "# H1 : There is a significative inflence between the sex and the survival (p-value < 5%)\n",
    "\n",
    "#Results\n",
    "print(\"The p-value is:\", chi2_sex[1])"
   ]
  },
  {
   "cell_type": "markdown",
   "id": "d92b595f",
   "metadata": {
    "papermill": {
     "duration": 0.020773,
     "end_time": "2023-06-12T10:24:58.726147",
     "exception": false,
     "start_time": "2023-06-12T10:24:58.705374",
     "status": "completed"
    },
    "tags": []
   },
   "source": [
    "#### It confirms there is a significant correlation between the sex and the survival. Women had more chance to survive than men."
   ]
  },
  {
   "cell_type": "markdown",
   "id": "feb78335",
   "metadata": {
    "papermill": {
     "duration": 0.020409,
     "end_time": "2023-06-12T10:24:58.767467",
     "exception": false,
     "start_time": "2023-06-12T10:24:58.747058",
     "status": "completed"
    },
    "tags": []
   },
   "source": [
    "### Categorical features - Class"
   ]
  },
  {
   "cell_type": "code",
   "execution_count": 18,
   "id": "38f2869c",
   "metadata": {
    "execution": {
     "iopub.execute_input": "2023-06-12T10:24:58.812351Z",
     "iopub.status.busy": "2023-06-12T10:24:58.811050Z",
     "iopub.status.idle": "2023-06-12T10:24:58.994774Z",
     "shell.execute_reply": "2023-06-12T10:24:58.993970Z"
    },
    "papermill": {
     "duration": 0.208859,
     "end_time": "2023-06-12T10:24:58.997278",
     "exception": false,
     "start_time": "2023-06-12T10:24:58.788419",
     "status": "completed"
    },
    "tags": []
   },
   "outputs": [
    {
     "data": {
      "image/png": "[encoded data removed]",
      "text/plain": [
       "<Figure size 640x480 with 1 Axes>"
      ]
     },
     "metadata": {},
     "output_type": "display_data"
    }
   ],
   "source": [
    "# Repartition by passenger's class and survival state\n",
    "sns.countplot(x = train_data.Pclass, hue=train_data.Survived)\n",
    "plt.title(\"Train data - Distribution of Titanic's passengers's class\")\n",
    "plt.xlabel(\"Class\");"
   ]
  },
  {
   "cell_type": "markdown",
   "id": "97a38e0d",
   "metadata": {
    "papermill": {
     "duration": 0.021957,
     "end_time": "2023-06-12T10:24:59.041472",
     "exception": false,
     "start_time": "2023-06-12T10:24:59.019515",
     "status": "completed"
    },
    "tags": []
   },
   "source": [
    "#### The figure shows that those in first class had better chance to survive than those in 3rd class. the passenger's class seems to have an influence on the survival. Let's confirm this with a statistical test."
   ]
  },
  {
   "cell_type": "code",
   "execution_count": 19,
   "id": "c5402343",
   "metadata": {
    "execution": {
     "iopub.execute_input": "2023-06-12T10:24:59.088065Z",
     "iopub.status.busy": "2023-06-12T10:24:59.086416Z",
     "iopub.status.idle": "2023-06-12T10:24:59.110194Z",
     "shell.execute_reply": "2023-06-12T10:24:59.108614Z"
    },
    "papermill": {
     "duration": 0.049141,
     "end_time": "2023-06-12T10:24:59.112365",
     "exception": false,
     "start_time": "2023-06-12T10:24:59.063224",
     "status": "completed"
    },
    "tags": []
   },
   "outputs": [
    {
     "data": {
      "text/html": [
       "<div>\n",
       "<style scoped>\n",
       "    .dataframe tbody tr th:only-of-type {\n",
       "        vertical-align: middle;\n",
       "    }\n",
       "\n",
       "    .dataframe tbody tr th {\n",
       "        vertical-align: top;\n",
       "    }\n",
       "\n",
       "    .dataframe thead th {\n",
       "        text-align: right;\n",
       "    }\n",
       "</style>\n",
       "<table border=\"1\" class=\"dataframe\">\n",
       "  <thead>\n",
       "    <tr style=\"text-align: right;\">\n",
       "      <th>Survived</th>\n",
       "      <th>0</th>\n",
       "      <th>1</th>\n",
       "    </tr>\n",
       "    <tr>\n",
       "      <th>Pclass</th>\n",
       "      <th></th>\n",
       "      <th></th>\n",
       "    </tr>\n",
       "  </thead>\n",
       "  <tbody>\n",
       "    <tr>\n",
       "      <th>1</th>\n",
       "      <td>80</td>\n",
       "      <td>136</td>\n",
       "    </tr>\n",
       "    <tr>\n",
       "      <th>2</th>\n",
       "      <td>97</td>\n",
       "      <td>87</td>\n",
       "    </tr>\n",
       "    <tr>\n",
       "      <th>3</th>\n",
       "      <td>372</td>\n",
       "      <td>119</td>\n",
       "    </tr>\n",
       "  </tbody>\n",
       "</table>\n",
       "</div>"
      ],
      "text/plain": [
       "Survived    0    1\n",
       "Pclass            \n",
       "1          80  136\n",
       "2          97   87\n",
       "3         372  119"
      ]
     },
     "metadata": {},
     "output_type": "display_data"
    },
    {
     "name": "stdout",
     "output_type": "stream",
     "text": [
      "The p-value is: 4.549251711298793e-23\n"
     ]
    }
   ],
   "source": [
    "contingency_class = pd.crosstab(train_data['Pclass'], train_data['Survived'])\n",
    "display(contingency_class)\n",
    "\n",
    "#Chi2 test on the contingency table\n",
    "chi2_class = chi2_contingency(contingency_class)\n",
    "\n",
    "# H0 : There is no influence between the class and the survival\n",
    "# H1 : There is a significative inflence between the class and the survival (p-value < 5%)\n",
    "\n",
    "#Results\n",
    "print(\"The p-value is:\", chi2_class[1])"
   ]
  },
  {
   "cell_type": "markdown",
   "id": "c80bbf0a",
   "metadata": {
    "papermill": {
     "duration": 0.021451,
     "end_time": "2023-06-12T10:24:59.155953",
     "exception": false,
     "start_time": "2023-06-12T10:24:59.134502",
     "status": "completed"
    },
    "tags": []
   },
   "source": [
    "#### It confirms there is a significant correlation between the passenger's class and the survival."
   ]
  },
  {
   "cell_type": "markdown",
   "id": "f81ebc01",
   "metadata": {
    "papermill": {
     "duration": 0.0223,
     "end_time": "2023-06-12T10:24:59.200031",
     "exception": false,
     "start_time": "2023-06-12T10:24:59.177731",
     "status": "completed"
    },
    "tags": []
   },
   "source": [
    "### Categorical features - Embarked"
   ]
  },
  {
   "cell_type": "code",
   "execution_count": 20,
   "id": "dba77067",
   "metadata": {
    "execution": {
     "iopub.execute_input": "2023-06-12T10:24:59.246637Z",
     "iopub.status.busy": "2023-06-12T10:24:59.246282Z",
     "iopub.status.idle": "2023-06-12T10:24:59.443079Z",
     "shell.execute_reply": "2023-06-12T10:24:59.441569Z"
    },
    "papermill": {
     "duration": 0.223084,
     "end_time": "2023-06-12T10:24:59.445359",
     "exception": false,
     "start_time": "2023-06-12T10:24:59.222275",
     "status": "completed"
    },
    "tags": []
   },
   "outputs": [
    {
     "data": {
      "image/png": "[encoded data removed]",
      "text/plain": [
       "<Figure size 640x480 with 1 Axes>"
      ]
     },
     "metadata": {},
     "output_type": "display_data"
    }
   ],
   "source": [
    "# Repartition by passenger's port of embarkation and survival state\n",
    "sns.countplot(x = train_data.Embarked, hue=train_data.Survived)\n",
    "plt.title(\"Train data - Distribution of Titanic's passengers's port of embarkation\")\n",
    "plt.xlabel(\"Port of embarkation\");"
   ]
  },
  {
   "cell_type": "markdown",
   "id": "b616f9c7",
   "metadata": {
    "papermill": {
     "duration": 0.023339,
     "end_time": "2023-06-12T10:24:59.490762",
     "exception": false,
     "start_time": "2023-06-12T10:24:59.467423",
     "status": "completed"
    },
    "tags": []
   },
   "source": [
    "#### Most of the passengers where from Southampton. But it's not easy to say there is a correlation between the port of embarkation and the survival state. Let's check the correlation."
   ]
  },
  {
   "cell_type": "code",
   "execution_count": 21,
   "id": "f766b898",
   "metadata": {
    "execution": {
     "iopub.execute_input": "2023-06-12T10:24:59.538240Z",
     "iopub.status.busy": "2023-06-12T10:24:59.537814Z",
     "iopub.status.idle": "2023-06-12T10:24:59.558049Z",
     "shell.execute_reply": "2023-06-12T10:24:59.557034Z"
    },
    "papermill": {
     "duration": 0.046911,
     "end_time": "2023-06-12T10:24:59.560376",
     "exception": false,
     "start_time": "2023-06-12T10:24:59.513465",
     "status": "completed"
    },
    "tags": []
   },
   "outputs": [
    {
     "data": {
      "text/html": [
       "<div>\n",
       "<style scoped>\n",
       "    .dataframe tbody tr th:only-of-type {\n",
       "        vertical-align: middle;\n",
       "    }\n",
       "\n",
       "    .dataframe tbody tr th {\n",
       "        vertical-align: top;\n",
       "    }\n",
       "\n",
       "    .dataframe thead th {\n",
       "        text-align: right;\n",
       "    }\n",
       "</style>\n",
       "<table border=\"1\" class=\"dataframe\">\n",
       "  <thead>\n",
       "    <tr style=\"text-align: right;\">\n",
       "      <th>Survived</th>\n",
       "      <th>0</th>\n",
       "      <th>1</th>\n",
       "    </tr>\n",
       "    <tr>\n",
       "      <th>Embarked</th>\n",
       "      <th></th>\n",
       "      <th></th>\n",
       "    </tr>\n",
       "  </thead>\n",
       "  <tbody>\n",
       "    <tr>\n",
       "      <th>C</th>\n",
       "      <td>75</td>\n",
       "      <td>93</td>\n",
       "    </tr>\n",
       "    <tr>\n",
       "      <th>Q</th>\n",
       "      <td>47</td>\n",
       "      <td>30</td>\n",
       "    </tr>\n",
       "    <tr>\n",
       "      <th>S</th>\n",
       "      <td>427</td>\n",
       "      <td>219</td>\n",
       "    </tr>\n",
       "  </tbody>\n",
       "</table>\n",
       "</div>"
      ],
      "text/plain": [
       "Survived    0    1\n",
       "Embarked          \n",
       "C          75   93\n",
       "Q          47   30\n",
       "S         427  219"
      ]
     },
     "metadata": {},
     "output_type": "display_data"
    },
    {
     "name": "stdout",
     "output_type": "stream",
     "text": [
      "The p-value is: 2.3008626481449577e-06\n"
     ]
    }
   ],
   "source": [
    "contingency_emb = pd.crosstab(train_data['Embarked'], train_data['Survived'])\n",
    "display(contingency_emb)\n",
    "\n",
    "#Chi2 test on the contingency table\n",
    "chi2_emb = chi2_contingency(contingency_emb)\n",
    "\n",
    "# H0 : There is no influence between the port of embarkation and the survival\n",
    "# H1 : There is a significative inflence between the port of embarkation and the survival (p-value < 5%)\n",
    "\n",
    "#Results\n",
    "print(\"The p-value is:\", chi2_emb[1])"
   ]
  },
  {
   "cell_type": "markdown",
   "id": "01cc37a0",
   "metadata": {
    "papermill": {
     "duration": 0.022055,
     "end_time": "2023-06-12T10:24:59.606090",
     "exception": false,
     "start_time": "2023-06-12T10:24:59.584035",
     "status": "completed"
    },
    "tags": []
   },
   "source": [
    "#### The port of embarkation seems to be statistically significant."
   ]
  },
  {
   "cell_type": "markdown",
   "id": "c261ff97",
   "metadata": {
    "papermill": {
     "duration": 0.022212,
     "end_time": "2023-06-12T10:24:59.650557",
     "exception": false,
     "start_time": "2023-06-12T10:24:59.628345",
     "status": "completed"
    },
    "tags": []
   },
   "source": [
    "### Numerical features - Age"
   ]
  },
  {
   "cell_type": "code",
   "execution_count": 22,
   "id": "2f7f1b6d",
   "metadata": {
    "execution": {
     "iopub.execute_input": "2023-06-12T10:24:59.697433Z",
     "iopub.status.busy": "2023-06-12T10:24:59.696840Z",
     "iopub.status.idle": "2023-06-12T10:25:00.503806Z",
     "shell.execute_reply": "2023-06-12T10:25:00.502488Z"
    },
    "papermill": {
     "duration": 0.833147,
     "end_time": "2023-06-12T10:25:00.506018",
     "exception": false,
     "start_time": "2023-06-12T10:24:59.672871",
     "status": "completed"
    },
    "tags": []
   },
   "outputs": [
    {
     "data": {
      "image/png": "[encoded data removed]",
      "text/plain": [
       "<Figure size 500x500 with 1 Axes>"
      ]
     },
     "metadata": {},
     "output_type": "display_data"
    },
    {
     "data": {
      "image/png": "[encoded data removed]",
      "text/plain": [
       "<Figure size 500x500 with 1 Axes>"
      ]
     },
     "metadata": {},
     "output_type": "display_data"
    },
    {
     "data": {
      "image/png": "[encoded data removed]",
      "text/plain": [
       "<Figure size 500x500 with 1 Axes>"
      ]
     },
     "metadata": {},
     "output_type": "display_data"
    }
   ],
   "source": [
    "#Dataset of only dead passengers\n",
    "age_dead = train_data[train_data['Survived']=='0']\n",
    "\n",
    "#Distribution of the passenger's regarding their age and survival\n",
    "\n",
    "sns.displot(train_data.Age)\n",
    "plt.title(\"Train data - Distribution of all Titanic's passengers's age\")\n",
    "plt.xlabel(\"Passenger's age\")\n",
    "\n",
    "sns.catplot(x = 'Survived', y = 'Age', kind = 'box', data = train_data)\n",
    "plt.title(\"Train data - Repartition of passenger's age regarding their survival\")\n",
    "plt.xlabel(\"Survived\")\n",
    "\n",
    "\n",
    "age_dead = train_data[train_data['Survived']=='0']\n",
    "sns.displot(age_dead.Age)\n",
    "plt.title(\"Train data - Distribution of Titanic's dead passengers's age\")\n",
    "plt.xlabel(\"Dead passenger's age\");"
   ]
  },
  {
   "cell_type": "markdown",
   "id": "04b7ed72",
   "metadata": {
    "papermill": {
     "duration": 0.022932,
     "end_time": "2023-06-12T10:25:00.552607",
     "exception": false,
     "start_time": "2023-06-12T10:25:00.529675",
     "status": "completed"
    },
    "tags": []
   },
   "source": [
    "#### The graphic shows there seems to be an equivalent repartition of age between those who survived and those who didn't. Nevetheless, we notice more aged passengers among the dead. Let's check it with a statistical test."
   ]
  },
  {
   "cell_type": "code",
   "execution_count": 23,
   "id": "0da480c0",
   "metadata": {
    "execution": {
     "iopub.execute_input": "2023-06-12T10:25:00.601583Z",
     "iopub.status.busy": "2023-06-12T10:25:00.601201Z",
     "iopub.status.idle": "2023-06-12T10:25:02.149405Z",
     "shell.execute_reply": "2023-06-12T10:25:02.148265Z"
    },
    "papermill": {
     "duration": 1.575339,
     "end_time": "2023-06-12T10:25:02.151607",
     "exception": false,
     "start_time": "2023-06-12T10:25:00.576268",
     "status": "completed"
    },
    "tags": []
   },
   "outputs": [
    {
     "data": {
      "text/html": [
       "<div>\n",
       "<style scoped>\n",
       "    .dataframe tbody tr th:only-of-type {\n",
       "        vertical-align: middle;\n",
       "    }\n",
       "\n",
       "    .dataframe tbody tr th {\n",
       "        vertical-align: top;\n",
       "    }\n",
       "\n",
       "    .dataframe thead th {\n",
       "        text-align: right;\n",
       "    }\n",
       "</style>\n",
       "<table border=\"1\" class=\"dataframe\">\n",
       "  <thead>\n",
       "    <tr style=\"text-align: right;\">\n",
       "      <th></th>\n",
       "      <th>df</th>\n",
       "      <th>sum_sq</th>\n",
       "      <th>mean_sq</th>\n",
       "      <th>F</th>\n",
       "      <th>PR(&gt;F)</th>\n",
       "    </tr>\n",
       "  </thead>\n",
       "  <tbody>\n",
       "    <tr>\n",
       "      <th>Survived</th>\n",
       "      <td>1.0</td>\n",
       "      <td>733.209612</td>\n",
       "      <td>733.209612</td>\n",
       "      <td>4.353516</td>\n",
       "      <td>0.037217</td>\n",
       "    </tr>\n",
       "    <tr>\n",
       "      <th>Residual</th>\n",
       "      <td>889.0</td>\n",
       "      <td>149723.426332</td>\n",
       "      <td>168.417802</td>\n",
       "      <td>NaN</td>\n",
       "      <td>NaN</td>\n",
       "    </tr>\n",
       "  </tbody>\n",
       "</table>\n",
       "</div>"
      ],
      "text/plain": [
       "             df         sum_sq     mean_sq         F    PR(>F)\n",
       "Survived    1.0     733.209612  733.209612  4.353516  0.037217\n",
       "Residual  889.0  149723.426332  168.417802       NaN       NaN"
      ]
     },
     "execution_count": 23,
     "metadata": {},
     "output_type": "execute_result"
    }
   ],
   "source": [
    "import statsmodels.api\n",
    "\n",
    "# H0 : There is no influence between passenger's age and their survival\n",
    "# H1 : There is a significative inflence between passenger's age and their survival (p-value < 5%)\n",
    "\n",
    "#Results\n",
    "result = statsmodels.formula.api.ols('Age ~ Survived', data = train_data).fit()\n",
    "table = statsmodels.api.stats.anova_lm(result)\n",
    "table"
   ]
  },
  {
   "cell_type": "markdown",
   "id": "76f3e1f7",
   "metadata": {
    "papermill": {
     "duration": 0.024031,
     "end_time": "2023-06-12T10:25:02.199597",
     "exception": false,
     "start_time": "2023-06-12T10:25:02.175566",
     "status": "completed"
    },
    "tags": []
   },
   "source": [
    "#### The passenger's age has a significative influence on the survival"
   ]
  },
  {
   "cell_type": "markdown",
   "id": "1dd9fe4b",
   "metadata": {
    "papermill": {
     "duration": 0.023702,
     "end_time": "2023-06-12T10:25:02.247479",
     "exception": false,
     "start_time": "2023-06-12T10:25:02.223777",
     "status": "completed"
    },
    "tags": []
   },
   "source": [
    "### Numerical Features - Fare"
   ]
  },
  {
   "cell_type": "code",
   "execution_count": 24,
   "id": "9dafa1e5",
   "metadata": {
    "execution": {
     "iopub.execute_input": "2023-06-12T10:25:02.296881Z",
     "iopub.status.busy": "2023-06-12T10:25:02.296537Z",
     "iopub.status.idle": "2023-06-12T10:25:02.526599Z",
     "shell.execute_reply": "2023-06-12T10:25:02.525168Z"
    },
    "papermill": {
     "duration": 0.257778,
     "end_time": "2023-06-12T10:25:02.529249",
     "exception": false,
     "start_time": "2023-06-12T10:25:02.271471",
     "status": "completed"
    },
    "tags": []
   },
   "outputs": [
    {
     "data": {
      "image/png": "[encoded data removed]",
      "text/plain": [
       "<Figure size 500x500 with 1 Axes>"
      ]
     },
     "metadata": {},
     "output_type": "display_data"
    }
   ],
   "source": [
    "# There should be a link between the tickets fare and the class\n",
    "# Let's check this\n",
    "\n",
    "sns.catplot(x = 'Pclass', y = 'Fare', kind = 'box', data = train_data)\n",
    "plt.title(\"Train data - Repartition of passenger's Class regarding their ticket's fare\")\n",
    "plt.xlabel(\"Passenger's Class\");"
   ]
  },
  {
   "cell_type": "markdown",
   "id": "f74f0a62",
   "metadata": {
    "papermill": {
     "duration": 0.024265,
     "end_time": "2023-06-12T10:25:02.579124",
     "exception": false,
     "start_time": "2023-06-12T10:25:02.554859",
     "status": "completed"
    },
    "tags": []
   },
   "source": [
    "#### This graph shows there is a correlation between those 2 features. We shall only select one of them for the modeling. We can verify it with a statistical test."
   ]
  },
  {
   "cell_type": "code",
   "execution_count": 25,
   "id": "46312232",
   "metadata": {
    "execution": {
     "iopub.execute_input": "2023-06-12T10:25:02.627906Z",
     "iopub.status.busy": "2023-06-12T10:25:02.627537Z",
     "iopub.status.idle": "2023-06-12T10:25:02.656344Z",
     "shell.execute_reply": "2023-06-12T10:25:02.655575Z"
    },
    "papermill": {
     "duration": 0.055668,
     "end_time": "2023-06-12T10:25:02.658169",
     "exception": false,
     "start_time": "2023-06-12T10:25:02.602501",
     "status": "completed"
    },
    "tags": []
   },
   "outputs": [
    {
     "data": {
      "text/html": [
       "<div>\n",
       "<style scoped>\n",
       "    .dataframe tbody tr th:only-of-type {\n",
       "        vertical-align: middle;\n",
       "    }\n",
       "\n",
       "    .dataframe tbody tr th {\n",
       "        vertical-align: top;\n",
       "    }\n",
       "\n",
       "    .dataframe thead th {\n",
       "        text-align: right;\n",
       "    }\n",
       "</style>\n",
       "<table border=\"1\" class=\"dataframe\">\n",
       "  <thead>\n",
       "    <tr style=\"text-align: right;\">\n",
       "      <th></th>\n",
       "      <th>df</th>\n",
       "      <th>sum_sq</th>\n",
       "      <th>mean_sq</th>\n",
       "      <th>F</th>\n",
       "      <th>PR(&gt;F)</th>\n",
       "    </tr>\n",
       "  </thead>\n",
       "  <tbody>\n",
       "    <tr>\n",
       "      <th>Pclass</th>\n",
       "      <td>2.0</td>\n",
       "      <td>7.760301e+05</td>\n",
       "      <td>388015.028289</td>\n",
       "      <td>242.344157</td>\n",
       "      <td>1.031376e-84</td>\n",
       "    </tr>\n",
       "    <tr>\n",
       "      <th>Residual</th>\n",
       "      <td>888.0</td>\n",
       "      <td>1.421769e+06</td>\n",
       "      <td>1601.090919</td>\n",
       "      <td>NaN</td>\n",
       "      <td>NaN</td>\n",
       "    </tr>\n",
       "  </tbody>\n",
       "</table>\n",
       "</div>"
      ],
      "text/plain": [
       "             df        sum_sq        mean_sq           F        PR(>F)\n",
       "Pclass      2.0  7.760301e+05  388015.028289  242.344157  1.031376e-84\n",
       "Residual  888.0  1.421769e+06    1601.090919         NaN           NaN"
      ]
     },
     "execution_count": 25,
     "metadata": {},
     "output_type": "execute_result"
    }
   ],
   "source": [
    "# H0 : There is no correlation between passenger's fare and their class\n",
    "# H1 : There is a significative correlation between passenger's fare and their class (p-value < 5%)\n",
    "\n",
    "#Results\n",
    "result = statsmodels.formula.api.ols('Fare ~ Pclass', data = train_data).fit()\n",
    "table = statsmodels.api.stats.anova_lm(result)\n",
    "table"
   ]
  },
  {
   "cell_type": "markdown",
   "id": "dd89569e",
   "metadata": {
    "papermill": {
     "duration": 0.023572,
     "end_time": "2023-06-12T10:25:02.706021",
     "exception": false,
     "start_time": "2023-06-12T10:25:02.682449",
     "status": "completed"
    },
    "tags": []
   },
   "source": [
    "#### There is a strong correlation between those two features. We shall consider only the Pclass feature."
   ]
  },
  {
   "cell_type": "markdown",
   "id": "83932a6e",
   "metadata": {
    "papermill": {
     "duration": 0.023456,
     "end_time": "2023-06-12T10:25:02.753329",
     "exception": false,
     "start_time": "2023-06-12T10:25:02.729873",
     "status": "completed"
    },
    "tags": []
   },
   "source": [
    "### Numerical features - SibSp"
   ]
  },
  {
   "cell_type": "code",
   "execution_count": 26,
   "id": "95968d39",
   "metadata": {
    "execution": {
     "iopub.execute_input": "2023-06-12T10:25:02.802293Z",
     "iopub.status.busy": "2023-06-12T10:25:02.801892Z",
     "iopub.status.idle": "2023-06-12T10:25:03.022873Z",
     "shell.execute_reply": "2023-06-12T10:25:03.021866Z"
    },
    "papermill": {
     "duration": 0.24828,
     "end_time": "2023-06-12T10:25:03.025522",
     "exception": false,
     "start_time": "2023-06-12T10:25:02.777242",
     "status": "completed"
    },
    "tags": []
   },
   "outputs": [
    {
     "data": {
      "image/png": "[encoded data removed]",
      "text/plain": [
       "<Figure size 500x500 with 1 Axes>"
      ]
     },
     "metadata": {},
     "output_type": "display_data"
    }
   ],
   "source": [
    "#Does the number of siblings / spouses had an influence on passenger's survival?\n",
    "\n",
    "sns.catplot(x = 'Survived', y = 'SibSp', kind = 'box', data = train_data)\n",
    "plt.title(\"Train data - Passenger's survival regarding the number of Siblings / Spouses\")\n",
    "plt.xlabel(\"Survived\");"
   ]
  },
  {
   "cell_type": "markdown",
   "id": "fc653984",
   "metadata": {
    "papermill": {
     "duration": 0.026457,
     "end_time": "2023-06-12T10:25:03.076766",
     "exception": false,
     "start_time": "2023-06-12T10:25:03.050309",
     "status": "completed"
    },
    "tags": []
   },
   "source": [
    "#### This graph tends to show that the number of siblings / spouses had no impact ont the survival issue."
   ]
  },
  {
   "cell_type": "code",
   "execution_count": 27,
   "id": "8540619c",
   "metadata": {
    "execution": {
     "iopub.execute_input": "2023-06-12T10:25:03.129644Z",
     "iopub.status.busy": "2023-06-12T10:25:03.128423Z",
     "iopub.status.idle": "2023-06-12T10:25:03.159855Z",
     "shell.execute_reply": "2023-06-12T10:25:03.158082Z"
    },
    "papermill": {
     "duration": 0.06067,
     "end_time": "2023-06-12T10:25:03.162668",
     "exception": false,
     "start_time": "2023-06-12T10:25:03.101998",
     "status": "completed"
    },
    "tags": []
   },
   "outputs": [
    {
     "data": {
      "text/html": [
       "<div>\n",
       "<style scoped>\n",
       "    .dataframe tbody tr th:only-of-type {\n",
       "        vertical-align: middle;\n",
       "    }\n",
       "\n",
       "    .dataframe tbody tr th {\n",
       "        vertical-align: top;\n",
       "    }\n",
       "\n",
       "    .dataframe thead th {\n",
       "        text-align: right;\n",
       "    }\n",
       "</style>\n",
       "<table border=\"1\" class=\"dataframe\">\n",
       "  <thead>\n",
       "    <tr style=\"text-align: right;\">\n",
       "      <th></th>\n",
       "      <th>df</th>\n",
       "      <th>sum_sq</th>\n",
       "      <th>mean_sq</th>\n",
       "      <th>F</th>\n",
       "      <th>PR(&gt;F)</th>\n",
       "    </tr>\n",
       "  </thead>\n",
       "  <tbody>\n",
       "    <tr>\n",
       "      <th>Survived</th>\n",
       "      <td>1.0</td>\n",
       "      <td>1.350336</td>\n",
       "      <td>1.350336</td>\n",
       "      <td>1.110572</td>\n",
       "      <td>0.292244</td>\n",
       "    </tr>\n",
       "    <tr>\n",
       "      <th>Residual</th>\n",
       "      <td>889.0</td>\n",
       "      <td>1080.928003</td>\n",
       "      <td>1.215892</td>\n",
       "      <td>NaN</td>\n",
       "      <td>NaN</td>\n",
       "    </tr>\n",
       "  </tbody>\n",
       "</table>\n",
       "</div>"
      ],
      "text/plain": [
       "             df       sum_sq   mean_sq         F    PR(>F)\n",
       "Survived    1.0     1.350336  1.350336  1.110572  0.292244\n",
       "Residual  889.0  1080.928003  1.215892       NaN       NaN"
      ]
     },
     "execution_count": 27,
     "metadata": {},
     "output_type": "execute_result"
    }
   ],
   "source": [
    "# H0 : There is no correlation between passenger's siblings/spouse number and their their survival\n",
    "# H1 : There is a significative correlation between passenger's siblings/spouse and their survival (p-value < 5%)\n",
    "\n",
    "#Results\n",
    "result = statsmodels.formula.api.ols('SibSp ~ Survived', data = train_data).fit()\n",
    "table = statsmodels.api.stats.anova_lm(result)\n",
    "table"
   ]
  },
  {
   "cell_type": "markdown",
   "id": "43a3ec32",
   "metadata": {
    "papermill": {
     "duration": 0.026876,
     "end_time": "2023-06-12T10:25:03.218684",
     "exception": false,
     "start_time": "2023-06-12T10:25:03.191808",
     "status": "completed"
    },
    "tags": []
   },
   "source": [
    "#### The ANOVA test confirms that the SibSp feature has no influence on the target Survived"
   ]
  },
  {
   "cell_type": "markdown",
   "id": "41817ab9",
   "metadata": {
    "papermill": {
     "duration": 0.025586,
     "end_time": "2023-06-12T10:25:03.269530",
     "exception": false,
     "start_time": "2023-06-12T10:25:03.243944",
     "status": "completed"
    },
    "tags": []
   },
   "source": [
    "### Numerical features - Parch"
   ]
  },
  {
   "cell_type": "code",
   "execution_count": 28,
   "id": "adb6a831",
   "metadata": {
    "execution": {
     "iopub.execute_input": "2023-06-12T10:25:03.324562Z",
     "iopub.status.busy": "2023-06-12T10:25:03.322899Z",
     "iopub.status.idle": "2023-06-12T10:25:03.546397Z",
     "shell.execute_reply": "2023-06-12T10:25:03.544070Z"
    },
    "papermill": {
     "duration": 0.254165,
     "end_time": "2023-06-12T10:25:03.548945",
     "exception": false,
     "start_time": "2023-06-12T10:25:03.294780",
     "status": "completed"
    },
    "tags": []
   },
   "outputs": [
    {
     "data": {
      "image/png": "[encoded data removed]",
      "text/plain": [
       "<Figure size 500x500 with 1 Axes>"
      ]
     },
     "metadata": {},
     "output_type": "display_data"
    }
   ],
   "source": [
    "#Does the number of parents/children had an influence on passenger's survival?\n",
    "\n",
    "sns.catplot(x = 'Survived', y = 'Parch', kind = 'box', data = train_data)\n",
    "plt.title(\"Train data - Passenger's survival regarding the number of Parents / Children\")\n",
    "plt.xlabel(\"Survived\");"
   ]
  },
  {
   "cell_type": "markdown",
   "id": "18fb8030",
   "metadata": {
    "papermill": {
     "duration": 0.02487,
     "end_time": "2023-06-12T10:25:03.599539",
     "exception": false,
     "start_time": "2023-06-12T10:25:03.574669",
     "status": "completed"
    },
    "tags": []
   },
   "source": [
    "#### The graph clearly shows there was a great impact of Parch on the survival issue."
   ]
  },
  {
   "cell_type": "code",
   "execution_count": 29,
   "id": "b2e6e9e7",
   "metadata": {
    "execution": {
     "iopub.execute_input": "2023-06-12T10:25:03.653085Z",
     "iopub.status.busy": "2023-06-12T10:25:03.652535Z",
     "iopub.status.idle": "2023-06-12T10:25:03.676814Z",
     "shell.execute_reply": "2023-06-12T10:25:03.675825Z"
    },
    "papermill": {
     "duration": 0.052377,
     "end_time": "2023-06-12T10:25:03.678743",
     "exception": false,
     "start_time": "2023-06-12T10:25:03.626366",
     "status": "completed"
    },
    "tags": []
   },
   "outputs": [
    {
     "data": {
      "text/html": [
       "<div>\n",
       "<style scoped>\n",
       "    .dataframe tbody tr th:only-of-type {\n",
       "        vertical-align: middle;\n",
       "    }\n",
       "\n",
       "    .dataframe tbody tr th {\n",
       "        vertical-align: top;\n",
       "    }\n",
       "\n",
       "    .dataframe thead th {\n",
       "        text-align: right;\n",
       "    }\n",
       "</style>\n",
       "<table border=\"1\" class=\"dataframe\">\n",
       "  <thead>\n",
       "    <tr style=\"text-align: right;\">\n",
       "      <th></th>\n",
       "      <th>df</th>\n",
       "      <th>sum_sq</th>\n",
       "      <th>mean_sq</th>\n",
       "      <th>F</th>\n",
       "      <th>PR(&gt;F)</th>\n",
       "    </tr>\n",
       "  </thead>\n",
       "  <tbody>\n",
       "    <tr>\n",
       "      <th>Survived</th>\n",
       "      <td>1.0</td>\n",
       "      <td>3.853142</td>\n",
       "      <td>3.853142</td>\n",
       "      <td>5.963464</td>\n",
       "      <td>0.014799</td>\n",
       "    </tr>\n",
       "    <tr>\n",
       "      <th>Residual</th>\n",
       "      <td>889.0</td>\n",
       "      <td>574.404995</td>\n",
       "      <td>0.646125</td>\n",
       "      <td>NaN</td>\n",
       "      <td>NaN</td>\n",
       "    </tr>\n",
       "  </tbody>\n",
       "</table>\n",
       "</div>"
      ],
      "text/plain": [
       "             df      sum_sq   mean_sq         F    PR(>F)\n",
       "Survived    1.0    3.853142  3.853142  5.963464  0.014799\n",
       "Residual  889.0  574.404995  0.646125       NaN       NaN"
      ]
     },
     "execution_count": 29,
     "metadata": {},
     "output_type": "execute_result"
    }
   ],
   "source": [
    "# H0 : There is no correlation between passenger's parents/children number and their their survival\n",
    "# H1 : There is a significative correlation between passenger's parents/children and their survival (p-value < 5%)\n",
    "\n",
    "#Results\n",
    "result = statsmodels.formula.api.ols('Parch ~ Survived', data = train_data).fit()\n",
    "table = statsmodels.api.stats.anova_lm(result)\n",
    "table"
   ]
  },
  {
   "cell_type": "markdown",
   "id": "30d373be",
   "metadata": {
    "papermill": {
     "duration": 0.024439,
     "end_time": "2023-06-12T10:25:03.727785",
     "exception": false,
     "start_time": "2023-06-12T10:25:03.703346",
     "status": "completed"
    },
    "tags": []
   },
   "source": [
    "## Machine Learning"
   ]
  },
  {
   "cell_type": "code",
   "execution_count": 30,
   "id": "36df4611",
   "metadata": {
    "execution": {
     "iopub.execute_input": "2023-06-12T10:25:03.779461Z",
     "iopub.status.busy": "2023-06-12T10:25:03.779007Z",
     "iopub.status.idle": "2023-06-12T10:25:04.246980Z",
     "shell.execute_reply": "2023-06-12T10:25:04.245768Z"
    },
    "papermill": {
     "duration": 0.497156,
     "end_time": "2023-06-12T10:25:04.249830",
     "exception": false,
     "start_time": "2023-06-12T10:25:03.752674",
     "status": "completed"
    },
    "tags": []
   },
   "outputs": [],
   "source": [
    "from sklearn.preprocessing import StandardScaler\n",
    "\n",
    "from sklearn.ensemble import RandomForestClassifier\n",
    "from sklearn.linear_model import LogisticRegression\n",
    "from sklearn.svm import SVC\n",
    "from sklearn.neighbors import KNeighborsClassifier\n",
    "from sklearn.ensemble import GradientBoostingClassifier\n",
    "\n",
    "from sklearn.model_selection import GridSearchCV\n",
    "from sklearn.model_selection import RepeatedStratifiedKFold"
   ]
  },
  {
   "cell_type": "markdown",
   "id": "843bd805",
   "metadata": {
    "papermill": {
     "duration": 0.029543,
     "end_time": "2023-06-12T10:25:04.307156",
     "exception": false,
     "start_time": "2023-06-12T10:25:04.277613",
     "status": "completed"
    },
    "tags": []
   },
   "source": [
    "### Data preparation"
   ]
  },
  {
   "cell_type": "code",
   "execution_count": 31,
   "id": "43de314d",
   "metadata": {
    "execution": {
     "iopub.execute_input": "2023-06-12T10:25:04.361901Z",
     "iopub.status.busy": "2023-06-12T10:25:04.361570Z",
     "iopub.status.idle": "2023-06-12T10:25:04.378667Z",
     "shell.execute_reply": "2023-06-12T10:25:04.377499Z"
    },
    "papermill": {
     "duration": 0.044616,
     "end_time": "2023-06-12T10:25:04.380328",
     "exception": false,
     "start_time": "2023-06-12T10:25:04.335712",
     "status": "completed"
    },
    "tags": []
   },
   "outputs": [],
   "source": [
    "y = train_data[\"Survived\"]\n",
    "\n",
    "#We select all the features which appeared to be statiscally siginificant\n",
    "features = [\"Pclass\", \"Sex\", 'Age', \"Parch\", 'Embarked']\n",
    "\n",
    "#We get dummy variables from the categorical features\n",
    "X_train = pd.get_dummies(train_data[features])\n",
    "X_test = pd.get_dummies(test_data[features])"
   ]
  },
  {
   "cell_type": "code",
   "execution_count": 32,
   "id": "c98e94c5",
   "metadata": {
    "execution": {
     "iopub.execute_input": "2023-06-12T10:25:04.433147Z",
     "iopub.status.busy": "2023-06-12T10:25:04.431832Z",
     "iopub.status.idle": "2023-06-12T10:25:04.452296Z",
     "shell.execute_reply": "2023-06-12T10:25:04.451521Z"
    },
    "papermill": {
     "duration": 0.048901,
     "end_time": "2023-06-12T10:25:04.454532",
     "exception": false,
     "start_time": "2023-06-12T10:25:04.405631",
     "status": "completed"
    },
    "tags": []
   },
   "outputs": [
    {
     "data": {
      "text/html": [
       "<div>\n",
       "<style scoped>\n",
       "    .dataframe tbody tr th:only-of-type {\n",
       "        vertical-align: middle;\n",
       "    }\n",
       "\n",
       "    .dataframe tbody tr th {\n",
       "        vertical-align: top;\n",
       "    }\n",
       "\n",
       "    .dataframe thead th {\n",
       "        text-align: right;\n",
       "    }\n",
       "</style>\n",
       "<table border=\"1\" class=\"dataframe\">\n",
       "  <thead>\n",
       "    <tr style=\"text-align: right;\">\n",
       "      <th></th>\n",
       "      <th>Age</th>\n",
       "      <th>Parch</th>\n",
       "      <th>Pclass_1</th>\n",
       "      <th>Pclass_2</th>\n",
       "      <th>Pclass_3</th>\n",
       "      <th>Sex_female</th>\n",
       "      <th>Sex_male</th>\n",
       "      <th>Embarked_C</th>\n",
       "      <th>Embarked_Q</th>\n",
       "      <th>Embarked_S</th>\n",
       "    </tr>\n",
       "    <tr>\n",
       "      <th>PassengerId</th>\n",
       "      <th></th>\n",
       "      <th></th>\n",
       "      <th></th>\n",
       "      <th></th>\n",
       "      <th></th>\n",
       "      <th></th>\n",
       "      <th></th>\n",
       "      <th></th>\n",
       "      <th></th>\n",
       "      <th></th>\n",
       "    </tr>\n",
       "  </thead>\n",
       "  <tbody>\n",
       "    <tr>\n",
       "      <th>892</th>\n",
       "      <td>0.369449</td>\n",
       "      <td>-0.473674</td>\n",
       "      <td>0</td>\n",
       "      <td>0</td>\n",
       "      <td>1</td>\n",
       "      <td>0</td>\n",
       "      <td>1</td>\n",
       "      <td>0</td>\n",
       "      <td>1</td>\n",
       "      <td>0</td>\n",
       "    </tr>\n",
       "    <tr>\n",
       "      <th>893</th>\n",
       "      <td>1.331378</td>\n",
       "      <td>-0.473674</td>\n",
       "      <td>0</td>\n",
       "      <td>0</td>\n",
       "      <td>1</td>\n",
       "      <td>1</td>\n",
       "      <td>0</td>\n",
       "      <td>0</td>\n",
       "      <td>0</td>\n",
       "      <td>1</td>\n",
       "    </tr>\n",
       "    <tr>\n",
       "      <th>894</th>\n",
       "      <td>2.485693</td>\n",
       "      <td>-0.473674</td>\n",
       "      <td>0</td>\n",
       "      <td>1</td>\n",
       "      <td>0</td>\n",
       "      <td>0</td>\n",
       "      <td>1</td>\n",
       "      <td>0</td>\n",
       "      <td>1</td>\n",
       "      <td>0</td>\n",
       "    </tr>\n",
       "    <tr>\n",
       "      <th>895</th>\n",
       "      <td>-0.207709</td>\n",
       "      <td>-0.473674</td>\n",
       "      <td>0</td>\n",
       "      <td>0</td>\n",
       "      <td>1</td>\n",
       "      <td>0</td>\n",
       "      <td>1</td>\n",
       "      <td>0</td>\n",
       "      <td>0</td>\n",
       "      <td>1</td>\n",
       "    </tr>\n",
       "    <tr>\n",
       "      <th>896</th>\n",
       "      <td>-0.592481</td>\n",
       "      <td>0.767630</td>\n",
       "      <td>0</td>\n",
       "      <td>0</td>\n",
       "      <td>1</td>\n",
       "      <td>1</td>\n",
       "      <td>0</td>\n",
       "      <td>0</td>\n",
       "      <td>0</td>\n",
       "      <td>1</td>\n",
       "    </tr>\n",
       "  </tbody>\n",
       "</table>\n",
       "</div>"
      ],
      "text/plain": [
       "                  Age     Parch  Pclass_1  Pclass_2  Pclass_3  Sex_female  \\\n",
       "PassengerId                                                                 \n",
       "892          0.369449 -0.473674         0         0         1           0   \n",
       "893          1.331378 -0.473674         0         0         1           1   \n",
       "894          2.485693 -0.473674         0         1         0           0   \n",
       "895         -0.207709 -0.473674         0         0         1           0   \n",
       "896         -0.592481  0.767630         0         0         1           1   \n",
       "\n",
       "             Sex_male  Embarked_C  Embarked_Q  Embarked_S  \n",
       "PassengerId                                                \n",
       "892                 1           0           1           0  \n",
       "893                 0           0           0           1  \n",
       "894                 1           0           1           0  \n",
       "895                 1           0           0           1  \n",
       "896                 0           0           0           1  "
      ]
     },
     "execution_count": 32,
     "metadata": {},
     "output_type": "execute_result"
    }
   ],
   "source": [
    "#Numerical values standardization\n",
    "#We see that variables 'Age' and 'Parch' are measured at different scales\n",
    "\n",
    "cols = ['Age', 'Parch']\n",
    "sc = StandardScaler()\n",
    "X_train[cols] = sc.fit_transform(X_train[cols])\n",
    "X_test[cols] = sc.transform(X_test[cols])\n",
    "\n",
    "X_test.head()"
   ]
  },
  {
   "cell_type": "code",
   "execution_count": 33,
   "id": "9cf7804b",
   "metadata": {
    "execution": {
     "iopub.execute_input": "2023-06-12T10:25:04.509151Z",
     "iopub.status.busy": "2023-06-12T10:25:04.508713Z",
     "iopub.status.idle": "2023-06-12T10:25:04.513750Z",
     "shell.execute_reply": "2023-06-12T10:25:04.512430Z"
    },
    "papermill": {
     "duration": 0.036319,
     "end_time": "2023-06-12T10:25:04.516401",
     "exception": false,
     "start_time": "2023-06-12T10:25:04.480082",
     "status": "completed"
    },
    "tags": []
   },
   "outputs": [],
   "source": [
    "#Cross validator\n",
    "cv = RepeatedStratifiedKFold(n_splits=10, n_repeats=3, random_state=1)"
   ]
  },
  {
   "cell_type": "markdown",
   "id": "8a0e13f2",
   "metadata": {
    "papermill": {
     "duration": 0.024806,
     "end_time": "2023-06-12T10:25:04.567523",
     "exception": false,
     "start_time": "2023-06-12T10:25:04.542717",
     "status": "completed"
    },
    "tags": []
   },
   "source": [
    "### Random Forest"
   ]
  },
  {
   "cell_type": "code",
   "execution_count": 34,
   "id": "733364c8",
   "metadata": {
    "execution": {
     "iopub.execute_input": "2023-06-12T10:25:04.620554Z",
     "iopub.status.busy": "2023-06-12T10:25:04.620148Z",
     "iopub.status.idle": "2023-06-12T10:25:04.627690Z",
     "shell.execute_reply": "2023-06-12T10:25:04.626275Z"
    },
    "papermill": {
     "duration": 0.037451,
     "end_time": "2023-06-12T10:25:04.630516",
     "exception": false,
     "start_time": "2023-06-12T10:25:04.593065",
     "status": "completed"
    },
    "tags": []
   },
   "outputs": [
    {
     "data": {
      "text/plain": [
       "'\\n#Initialization, training and predictions of the classifier\\nmodelRF = RandomForestClassifier(n_estimators = 100, max_depth = 5, random_state = 1)\\nmodelRF.fit(X_train, y)\\npredictionsRF = modelRF.predict(X_test)\\n\\n#Output\\noutputRF = pd.DataFrame({\\'PassengerId\\': test_data.index, \\'Survived\\': predictionsRF})\\noutputRF.to_csv(\\'submissionRF.csv\\', index=False)\\nprint(\"Your submission was successfully saved!\")\\n\\noutputRF.head()\\n'"
      ]
     },
     "execution_count": 34,
     "metadata": {},
     "output_type": "execute_result"
    }
   ],
   "source": [
    "'''\n",
    "#Initialization, training and predictions of the classifier\n",
    "modelRF = RandomForestClassifier(n_estimators = 100, max_depth = 5, random_state = 1)\n",
    "modelRF.fit(X_train, y)\n",
    "predictionsRF = modelRF.predict(X_test)\n",
    "\n",
    "#Output\n",
    "outputRF = pd.DataFrame({'PassengerId': test_data.index, 'Survived': predictionsRF})\n",
    "outputRF.to_csv('submissionRF.csv', index=False)\n",
    "print(\"Your submission was successfully saved!\")\n",
    "\n",
    "outputRF.head()\n",
    "'''"
   ]
  },
  {
   "cell_type": "markdown",
   "id": "0920f942",
   "metadata": {
    "papermill": {
     "duration": 0.025768,
     "end_time": "2023-06-12T10:25:04.682584",
     "exception": false,
     "start_time": "2023-06-12T10:25:04.656816",
     "status": "completed"
    },
    "tags": []
   },
   "source": [
    "#### RF model optimization"
   ]
  },
  {
   "cell_type": "code",
   "execution_count": 35,
   "id": "5a03a86f",
   "metadata": {
    "execution": {
     "iopub.execute_input": "2023-06-12T10:25:04.735081Z",
     "iopub.status.busy": "2023-06-12T10:25:04.734487Z",
     "iopub.status.idle": "2023-06-12T10:25:04.741875Z",
     "shell.execute_reply": "2023-06-12T10:25:04.740918Z"
    },
    "papermill": {
     "duration": 0.035427,
     "end_time": "2023-06-12T10:25:04.743800",
     "exception": false,
     "start_time": "2023-06-12T10:25:04.708373",
     "status": "completed"
    },
    "tags": []
   },
   "outputs": [
    {
     "data": {
      "text/plain": [
       "\"\\n#Optimization of the RF classifier\\nparameters_rf= {\\n                'n_estimators':[100, 200,300,400,500,600,700],\\n                'criterion': ['gini', 'entropy'],\\n                'max_features': ['auto', 'sqrt', 'log2']\\n                }\\n\\n# We apply the Gridsearch to the RF model\\ngrid_rf=GridSearchCV(modelRF,param_grid=parameters_rf,cv=cv)\\n\\n#We train the grid\\ntrain_grid_rf = grid_rf.fit(X_train, y)\\n\\n# We find the best hyperparameters \\nprint('RF model best score is %f with parameters %s'%(train_grid_rf.best_score_, train_grid_rf.best_params_))\\n\""
      ]
     },
     "execution_count": 35,
     "metadata": {},
     "output_type": "execute_result"
    }
   ],
   "source": [
    "'''\n",
    "#Optimization of the RF classifier\n",
    "parameters_rf= {\n",
    "                'n_estimators':[100, 200,300,400,500,600,700],\n",
    "                'criterion': ['gini', 'entropy'],\n",
    "                'max_features': ['auto', 'sqrt', 'log2']\n",
    "                }\n",
    "\n",
    "# We apply the Gridsearch to the RF model\n",
    "grid_rf=GridSearchCV(modelRF,param_grid=parameters_rf,cv=cv)\n",
    "\n",
    "#We train the grid\n",
    "train_grid_rf = grid_rf.fit(X_train, y)\n",
    "\n",
    "# We find the best hyperparameters \n",
    "print('RF model best score is %f with parameters %s'%(train_grid_rf.best_score_, train_grid_rf.best_params_))\n",
    "'''"
   ]
  },
  {
   "cell_type": "code",
   "execution_count": 36,
   "id": "cce0293d",
   "metadata": {
    "execution": {
     "iopub.execute_input": "2023-06-12T10:25:04.795743Z",
     "iopub.status.busy": "2023-06-12T10:25:04.795395Z",
     "iopub.status.idle": "2023-06-12T10:25:04.801572Z",
     "shell.execute_reply": "2023-06-12T10:25:04.800753Z"
    },
    "papermill": {
     "duration": 0.034248,
     "end_time": "2023-06-12T10:25:04.803335",
     "exception": false,
     "start_time": "2023-06-12T10:25:04.769087",
     "status": "completed"
    },
    "tags": []
   },
   "outputs": [
    {
     "data": {
      "text/plain": [
       "'\\n# We define the optimized model\\nmodelRF_opt = RandomForestClassifier(n_estimators = train_grid_rf.best_params_[\\'n_estimators\\'], \\n                                     criterion = train_grid_rf.best_params_[\\'criterion\\'],\\n                                     max_features = train_grid_rf.best_params_[\\'max_features\\'],\\n                                    )\\nmodelRF_opt.fit(X_train, y)\\npredictionsRF_opt = modelRF_opt.predict(X_test)\\n\\n#Output\\noutputRF_opt = pd.DataFrame({\\'PassengerId\\': test_data.index, \\'Survived\\': predictionsRF_opt})\\noutputRF_opt.to_csv(\\'submissionRF_opt.csv\\', index=False)\\nprint(\"Your submission was successfully saved!\")\\n\\noutputRF_opt.head()\\n'"
      ]
     },
     "execution_count": 36,
     "metadata": {},
     "output_type": "execute_result"
    }
   ],
   "source": [
    "'''\n",
    "# We define the optimized model\n",
    "modelRF_opt = RandomForestClassifier(n_estimators = train_grid_rf.best_params_['n_estimators'], \n",
    "                                     criterion = train_grid_rf.best_params_['criterion'],\n",
    "                                     max_features = train_grid_rf.best_params_['max_features'],\n",
    "                                    )\n",
    "modelRF_opt.fit(X_train, y)\n",
    "predictionsRF_opt = modelRF_opt.predict(X_test)\n",
    "\n",
    "#Output\n",
    "outputRF_opt = pd.DataFrame({'PassengerId': test_data.index, 'Survived': predictionsRF_opt})\n",
    "outputRF_opt.to_csv('submissionRF_opt.csv', index=False)\n",
    "print(\"Your submission was successfully saved!\")\n",
    "\n",
    "outputRF_opt.head()\n",
    "'''"
   ]
  },
  {
   "cell_type": "markdown",
   "id": "eb5fb051",
   "metadata": {
    "papermill": {
     "duration": 0.025236,
     "end_time": "2023-06-12T10:25:04.853860",
     "exception": false,
     "start_time": "2023-06-12T10:25:04.828624",
     "status": "completed"
    },
    "tags": []
   },
   "source": [
    "### Logistic Regression"
   ]
  },
  {
   "cell_type": "code",
   "execution_count": 37,
   "id": "20e55d5e",
   "metadata": {
    "execution": {
     "iopub.execute_input": "2023-06-12T10:25:04.907033Z",
     "iopub.status.busy": "2023-06-12T10:25:04.906673Z",
     "iopub.status.idle": "2023-06-12T10:25:04.913171Z",
     "shell.execute_reply": "2023-06-12T10:25:04.912055Z"
    },
    "papermill": {
     "duration": 0.036315,
     "end_time": "2023-06-12T10:25:04.915652",
     "exception": false,
     "start_time": "2023-06-12T10:25:04.879337",
     "status": "completed"
    },
    "tags": []
   },
   "outputs": [
    {
     "data": {
      "text/plain": [
       "'\\n#Initialization, training and predictions of the classifier\\nmodelLR = LogisticRegression()\\nmodelLR.fit(X_train, y)\\npredictionsLR = modelLR.predict(X_test)\\n\\n\\n#Output\\noutputLR = pd.DataFrame({\\'PassengerId\\': test_data.index, \\'Survived\\': predictionsRF})\\noutputLR.to_csv(\\'submissionLR.csv\\', index=False)\\nprint(\"Your submission was successfully saved!\")\\n\\noutputLR.head()\\n'"
      ]
     },
     "execution_count": 37,
     "metadata": {},
     "output_type": "execute_result"
    }
   ],
   "source": [
    "'''\n",
    "#Initialization, training and predictions of the classifier\n",
    "modelLR = LogisticRegression()\n",
    "modelLR.fit(X_train, y)\n",
    "predictionsLR = modelLR.predict(X_test)\n",
    "\n",
    "\n",
    "#Output\n",
    "outputLR = pd.DataFrame({'PassengerId': test_data.index, 'Survived': predictionsRF})\n",
    "outputLR.to_csv('submissionLR.csv', index=False)\n",
    "print(\"Your submission was successfully saved!\")\n",
    "\n",
    "outputLR.head()\n",
    "'''"
   ]
  },
  {
   "cell_type": "markdown",
   "id": "3fc721c0",
   "metadata": {
    "papermill": {
     "duration": 0.025212,
     "end_time": "2023-06-12T10:25:04.966372",
     "exception": false,
     "start_time": "2023-06-12T10:25:04.941160",
     "status": "completed"
    },
    "tags": []
   },
   "source": [
    "#### LR model optimization"
   ]
  },
  {
   "cell_type": "code",
   "execution_count": 38,
   "id": "d29f6b48",
   "metadata": {
    "execution": {
     "iopub.execute_input": "2023-06-12T10:25:05.019566Z",
     "iopub.status.busy": "2023-06-12T10:25:05.019152Z",
     "iopub.status.idle": "2023-06-12T10:25:05.025485Z",
     "shell.execute_reply": "2023-06-12T10:25:05.024513Z"
    },
    "papermill": {
     "duration": 0.035537,
     "end_time": "2023-06-12T10:25:05.027473",
     "exception": false,
     "start_time": "2023-06-12T10:25:04.991936",
     "status": "completed"
    },
    "tags": []
   },
   "outputs": [
    {
     "data": {
      "text/plain": [
       "\"\\n#Optimization of the LR classifier\\nparameters_lr = {'solver' : ['newton-cg', 'lbfgs', 'liblinear', 'sag', 'saga'],\\n                 'penalty' : [None, 'l1', 'l2', 'elasticnet'],\\n                 'C' : [100, 10, 1.0, 0.1, 0.01]\\n                }\\n\\n# We apply the Gridsearch to the LR model\\ngrid_lr=GridSearchCV(modelLR,param_grid=parameters_lr,cv=cv)\\n\\n#We train the grid\\ntrain_grid_lr = grid_lr.fit(X_train, y)\\n\\n# We find the best hyperparameters \\nprint('LR model best score is %f with parameters %s'%(train_grid_lr.best_score_, train_grid_lr.best_params_))\\n\""
      ]
     },
     "execution_count": 38,
     "metadata": {},
     "output_type": "execute_result"
    }
   ],
   "source": [
    "'''\n",
    "#Optimization of the LR classifier\n",
    "parameters_lr = {'solver' : ['newton-cg', 'lbfgs', 'liblinear', 'sag', 'saga'],\n",
    "                 'penalty' : [None, 'l1', 'l2', 'elasticnet'],\n",
    "                 'C' : [100, 10, 1.0, 0.1, 0.01]\n",
    "                }\n",
    "\n",
    "# We apply the Gridsearch to the LR model\n",
    "grid_lr=GridSearchCV(modelLR,param_grid=parameters_lr,cv=cv)\n",
    "\n",
    "#We train the grid\n",
    "train_grid_lr = grid_lr.fit(X_train, y)\n",
    "\n",
    "# We find the best hyperparameters \n",
    "print('LR model best score is %f with parameters %s'%(train_grid_lr.best_score_, train_grid_lr.best_params_))\n",
    "'''"
   ]
  },
  {
   "cell_type": "code",
   "execution_count": 39,
   "id": "1e1aca60",
   "metadata": {
    "execution": {
     "iopub.execute_input": "2023-06-12T10:25:05.080759Z",
     "iopub.status.busy": "2023-06-12T10:25:05.080378Z",
     "iopub.status.idle": "2023-06-12T10:25:05.087143Z",
     "shell.execute_reply": "2023-06-12T10:25:05.086258Z"
    },
    "papermill": {
     "duration": 0.035966,
     "end_time": "2023-06-12T10:25:05.088977",
     "exception": false,
     "start_time": "2023-06-12T10:25:05.053011",
     "status": "completed"
    },
    "tags": []
   },
   "outputs": [
    {
     "data": {
      "text/plain": [
       "'\\n# We define the optimized model\\nmodelLR_opt = LogisticRegression(solver = train_grid_lr.best_params_[\\'solver\\'],\\n                                 penalty = train_grid_lr.best_params_[\\'penalty\\'],\\n                                 C = train_grid_lr.best_params_[\\'C\\']\\n                                )\\nmodelLR_opt.fit(X_train, y)\\npredictionsLR_opt = modelLR_opt.predict(X_test)\\n\\n#Output\\noutputLR_opt = pd.DataFrame({\\'PassengerId\\': test_data.index, \\'Survived\\': predictionsLR_opt})\\noutputLR_opt.to_csv(\\'submissionLR_opt.csv\\', index=False)\\nprint(\"Your submission was successfully saved!\")\\n\\noutputLR_opt.head()\\n'"
      ]
     },
     "execution_count": 39,
     "metadata": {},
     "output_type": "execute_result"
    }
   ],
   "source": [
    "'''\n",
    "# We define the optimized model\n",
    "modelLR_opt = LogisticRegression(solver = train_grid_lr.best_params_['solver'],\n",
    "                                 penalty = train_grid_lr.best_params_['penalty'],\n",
    "                                 C = train_grid_lr.best_params_['C']\n",
    "                                )\n",
    "modelLR_opt.fit(X_train, y)\n",
    "predictionsLR_opt = modelLR_opt.predict(X_test)\n",
    "\n",
    "#Output\n",
    "outputLR_opt = pd.DataFrame({'PassengerId': test_data.index, 'Survived': predictionsLR_opt})\n",
    "outputLR_opt.to_csv('submissionLR_opt.csv', index=False)\n",
    "print(\"Your submission was successfully saved!\")\n",
    "\n",
    "outputLR_opt.head()\n",
    "'''"
   ]
  },
  {
   "cell_type": "markdown",
   "id": "2a8d423d",
   "metadata": {
    "papermill": {
     "duration": 0.025733,
     "end_time": "2023-06-12T10:25:05.140735",
     "exception": false,
     "start_time": "2023-06-12T10:25:05.115002",
     "status": "completed"
    },
    "tags": []
   },
   "source": [
    "### KNN"
   ]
  },
  {
   "cell_type": "code",
   "execution_count": 40,
   "id": "b6095d6b",
   "metadata": {
    "execution": {
     "iopub.execute_input": "2023-06-12T10:25:05.194439Z",
     "iopub.status.busy": "2023-06-12T10:25:05.194013Z",
     "iopub.status.idle": "2023-06-12T10:25:05.201048Z",
     "shell.execute_reply": "2023-06-12T10:25:05.199628Z"
    },
    "papermill": {
     "duration": 0.03673,
     "end_time": "2023-06-12T10:25:05.203678",
     "exception": false,
     "start_time": "2023-06-12T10:25:05.166948",
     "status": "completed"
    },
    "tags": []
   },
   "outputs": [
    {
     "data": {
      "text/plain": [
       "'\\n#Initialization, training and predictions of the classifier\\nmodelKNN = KNeighborsClassifier()\\nmodelKNN.fit(X_train, y)\\npredictionsKNN = modelKNN.predict(X_test)\\n\\n#Output\\noutputKNN = pd.DataFrame({\\'PassengerId\\': test_data.index, \\'Survived\\': predictionsKNN})\\noutputKNN.to_csv(\\'submissionKNN.csv\\', index=False)\\nprint(\"Your submission was successfully saved!\")\\n\\noutputKNN.head()\\n'"
      ]
     },
     "execution_count": 40,
     "metadata": {},
     "output_type": "execute_result"
    }
   ],
   "source": [
    "'''\n",
    "#Initialization, training and predictions of the classifier\n",
    "modelKNN = KNeighborsClassifier()\n",
    "modelKNN.fit(X_train, y)\n",
    "predictionsKNN = modelKNN.predict(X_test)\n",
    "\n",
    "#Output\n",
    "outputKNN = pd.DataFrame({'PassengerId': test_data.index, 'Survived': predictionsKNN})\n",
    "outputKNN.to_csv('submissionKNN.csv', index=False)\n",
    "print(\"Your submission was successfully saved!\")\n",
    "\n",
    "outputKNN.head()\n",
    "'''"
   ]
  },
  {
   "cell_type": "markdown",
   "id": "3a9a5007",
   "metadata": {
    "papermill": {
     "duration": 0.025851,
     "end_time": "2023-06-12T10:25:05.255150",
     "exception": false,
     "start_time": "2023-06-12T10:25:05.229299",
     "status": "completed"
    },
    "tags": []
   },
   "source": [
    "#### KNN model optimization"
   ]
  },
  {
   "cell_type": "code",
   "execution_count": 41,
   "id": "4aa6339e",
   "metadata": {
    "execution": {
     "iopub.execute_input": "2023-06-12T10:25:05.310991Z",
     "iopub.status.busy": "2023-06-12T10:25:05.310588Z",
     "iopub.status.idle": "2023-06-12T10:25:05.318086Z",
     "shell.execute_reply": "2023-06-12T10:25:05.316846Z"
    },
    "papermill": {
     "duration": 0.038775,
     "end_time": "2023-06-12T10:25:05.320105",
     "exception": false,
     "start_time": "2023-06-12T10:25:05.281330",
     "status": "completed"
    },
    "tags": []
   },
   "outputs": [
    {
     "data": {
      "text/plain": [
       "\"\\n#Optimization of the KNN classifier\\nparameters_knn = {\\n                'n_neighbors' : range(1, 21, 2),\\n                'weights' : ['uniform', 'distance'],\\n                'metric' : ['euclidean', 'manhattan', 'minkowski']\\n                 }\\n\\n# We apply the Gridsearch to the KNN model\\ngrid_KNN=GridSearchCV(modelKNN,param_grid=parameters_knn,cv=cv)\\n\\n#We train the grid\\ntrain_grid_knn = grid_KNN.fit(X_train, y)\\n\\n# We find the best hyperparameters \\nprint('KNN model best score is %f with parameters %s'%(train_grid_knn.best_score_, train_grid_knn.best_params_))\\n\""
      ]
     },
     "execution_count": 41,
     "metadata": {},
     "output_type": "execute_result"
    }
   ],
   "source": [
    "'''\n",
    "#Optimization of the KNN classifier\n",
    "parameters_knn = {\n",
    "                'n_neighbors' : range(1, 21, 2),\n",
    "                'weights' : ['uniform', 'distance'],\n",
    "                'metric' : ['euclidean', 'manhattan', 'minkowski']\n",
    "                 }\n",
    "\n",
    "# We apply the Gridsearch to the KNN model\n",
    "grid_KNN=GridSearchCV(modelKNN,param_grid=parameters_knn,cv=cv)\n",
    "\n",
    "#We train the grid\n",
    "train_grid_knn = grid_KNN.fit(X_train, y)\n",
    "\n",
    "# We find the best hyperparameters \n",
    "print('KNN model best score is %f with parameters %s'%(train_grid_knn.best_score_, train_grid_knn.best_params_))\n",
    "'''"
   ]
  },
  {
   "cell_type": "code",
   "execution_count": 42,
   "id": "ae558a29",
   "metadata": {
    "execution": {
     "iopub.execute_input": "2023-06-12T10:25:05.374547Z",
     "iopub.status.busy": "2023-06-12T10:25:05.373801Z",
     "iopub.status.idle": "2023-06-12T10:25:05.381910Z",
     "shell.execute_reply": "2023-06-12T10:25:05.380161Z"
    },
    "papermill": {
     "duration": 0.038647,
     "end_time": "2023-06-12T10:25:05.384630",
     "exception": false,
     "start_time": "2023-06-12T10:25:05.345983",
     "status": "completed"
    },
    "tags": []
   },
   "outputs": [
    {
     "data": {
      "text/plain": [
       "'\\n# We define the optimized model\\nmodelKNN_opt = KNeighborsClassifier(n_neighbors = train_grid_knn.best_params_[\\'n_neighbors\\'], \\n                                   weights = train_grid_knn.best_params_[\\'weights\\'],\\n                                   metric = train_grid_knn.best_params_[\\'metric\\'],\\n                                  )\\nmodelKNN_opt.fit(X_train, y)\\npredictionsKNN_opt = modelKNN_opt.predict(X_test)\\n\\n#Output\\noutputKNN_opt = pd.DataFrame({\\'PassengerId\\': test_data.index, \\'Survived\\': predictionsKNN_opt})\\noutputKNN_opt.to_csv(\\'submissionKNN_opt.csv\\', index=False)\\nprint(\"Your submission was successfully saved!\")\\n\\noutputKNN_opt.head()\\n'"
      ]
     },
     "execution_count": 42,
     "metadata": {},
     "output_type": "execute_result"
    }
   ],
   "source": [
    "'''\n",
    "# We define the optimized model\n",
    "modelKNN_opt = KNeighborsClassifier(n_neighbors = train_grid_knn.best_params_['n_neighbors'], \n",
    "                                   weights = train_grid_knn.best_params_['weights'],\n",
    "                                   metric = train_grid_knn.best_params_['metric'],\n",
    "                                  )\n",
    "modelKNN_opt.fit(X_train, y)\n",
    "predictionsKNN_opt = modelKNN_opt.predict(X_test)\n",
    "\n",
    "#Output\n",
    "outputKNN_opt = pd.DataFrame({'PassengerId': test_data.index, 'Survived': predictionsKNN_opt})\n",
    "outputKNN_opt.to_csv('submissionKNN_opt.csv', index=False)\n",
    "print(\"Your submission was successfully saved!\")\n",
    "\n",
    "outputKNN_opt.head()\n",
    "'''"
   ]
  },
  {
   "cell_type": "markdown",
   "id": "568988c3",
   "metadata": {
    "papermill": {
     "duration": 0.025951,
     "end_time": "2023-06-12T10:25:05.437291",
     "exception": false,
     "start_time": "2023-06-12T10:25:05.411340",
     "status": "completed"
    },
    "tags": []
   },
   "source": [
    "### SVM"
   ]
  },
  {
   "cell_type": "code",
   "execution_count": 43,
   "id": "1e414898",
   "metadata": {
    "execution": {
     "iopub.execute_input": "2023-06-12T10:25:05.492276Z",
     "iopub.status.busy": "2023-06-12T10:25:05.491840Z",
     "iopub.status.idle": "2023-06-12T10:25:05.499284Z",
     "shell.execute_reply": "2023-06-12T10:25:05.497624Z"
    },
    "papermill": {
     "duration": 0.039278,
     "end_time": "2023-06-12T10:25:05.503055",
     "exception": false,
     "start_time": "2023-06-12T10:25:05.463777",
     "status": "completed"
    },
    "tags": []
   },
   "outputs": [
    {
     "data": {
      "text/plain": [
       "'\\n#Initialization, training and predictions of the classifier\\nmodelSVM = SVC()\\nmodelSVM.fit(X_train, y)\\npredictionsSVM = modelSVM.predict(X_test)\\n\\n\\n#Output\\noutputSVM = pd.DataFrame({\\'PassengerId\\': test_data.index, \\'Survived\\': predictionsSVM})\\noutputSVM.to_csv(\\'submissionSVM.csv\\', index=False)\\nprint(\"Your submission was successfully saved!\")\\n\\noutputSVM.head()\\n'"
      ]
     },
     "execution_count": 43,
     "metadata": {},
     "output_type": "execute_result"
    }
   ],
   "source": [
    "'''\n",
    "#Initialization, training and predictions of the classifier\n",
    "modelSVM = SVC()\n",
    "modelSVM.fit(X_train, y)\n",
    "predictionsSVM = modelSVM.predict(X_test)\n",
    "\n",
    "\n",
    "#Output\n",
    "outputSVM = pd.DataFrame({'PassengerId': test_data.index, 'Survived': predictionsSVM})\n",
    "outputSVM.to_csv('submissionSVM.csv', index=False)\n",
    "print(\"Your submission was successfully saved!\")\n",
    "\n",
    "outputSVM.head()\n",
    "'''"
   ]
  },
  {
   "cell_type": "markdown",
   "id": "f04cd7fc",
   "metadata": {
    "papermill": {
     "duration": 0.026842,
     "end_time": "2023-06-12T10:25:05.556634",
     "exception": false,
     "start_time": "2023-06-12T10:25:05.529792",
     "status": "completed"
    },
    "tags": []
   },
   "source": [
    "#### SVM model optimization"
   ]
  },
  {
   "cell_type": "code",
   "execution_count": 44,
   "id": "aee9db05",
   "metadata": {
    "execution": {
     "iopub.execute_input": "2023-06-12T10:25:05.611501Z",
     "iopub.status.busy": "2023-06-12T10:25:05.611120Z",
     "iopub.status.idle": "2023-06-12T10:25:05.618402Z",
     "shell.execute_reply": "2023-06-12T10:25:05.616991Z"
    },
    "papermill": {
     "duration": 0.036783,
     "end_time": "2023-06-12T10:25:05.620444",
     "exception": false,
     "start_time": "2023-06-12T10:25:05.583661",
     "status": "completed"
    },
    "tags": []
   },
   "outputs": [
    {
     "data": {
      "text/plain": [
       "\"\\n#Optimization of the SVM classifier\\nparameters_svm = {'kernel':['poly', 'rbf', 'sigmoid'],\\n                  'C' :[100, 10, 1.0, 0.1, 0.001]\\n                 }\\n\\n# We apply the Gridsearch to the SVM model\\ngrid_svm=GridSearchCV(modelSVM,param_grid=parameters_svm,cv=cv)\\n\\n#We train the grid\\ntrain_grid_svm = grid_svm.fit(X_train, y)\\n\\n# We find the best hyperparameters \\nprint('SVM model best score is %f with parameters %s'%(train_grid_svm.best_score_, train_grid_svm.best_params_))\\n\""
      ]
     },
     "execution_count": 44,
     "metadata": {},
     "output_type": "execute_result"
    }
   ],
   "source": [
    "'''\n",
    "#Optimization of the SVM classifier\n",
    "parameters_svm = {'kernel':['poly', 'rbf', 'sigmoid'],\n",
    "                  'C' :[100, 10, 1.0, 0.1, 0.001]\n",
    "                 }\n",
    "\n",
    "# We apply the Gridsearch to the SVM model\n",
    "grid_svm=GridSearchCV(modelSVM,param_grid=parameters_svm,cv=cv)\n",
    "\n",
    "#We train the grid\n",
    "train_grid_svm = grid_svm.fit(X_train, y)\n",
    "\n",
    "# We find the best hyperparameters \n",
    "print('SVM model best score is %f with parameters %s'%(train_grid_svm.best_score_, train_grid_svm.best_params_))\n",
    "'''"
   ]
  },
  {
   "cell_type": "code",
   "execution_count": 45,
   "id": "e784fb2f",
   "metadata": {
    "execution": {
     "iopub.execute_input": "2023-06-12T10:25:05.675743Z",
     "iopub.status.busy": "2023-06-12T10:25:05.674741Z",
     "iopub.status.idle": "2023-06-12T10:25:05.681272Z",
     "shell.execute_reply": "2023-06-12T10:25:05.679666Z"
    },
    "papermill": {
     "duration": 0.036852,
     "end_time": "2023-06-12T10:25:05.683811",
     "exception": false,
     "start_time": "2023-06-12T10:25:05.646959",
     "status": "completed"
    },
    "tags": []
   },
   "outputs": [
    {
     "data": {
      "text/plain": [
       "\"\\n# We define the optimized model\\nmodelSVM_opt = SVC(kernel = 'poly',\\n                   C = 0.1\\n                  )\\n\\nmodelSVM_opt.fit(X_train, y)\\npredictionsSVM_opt = modelSVM_opt.predict(X_test)\\n\\n#Output\\noutputSVM_opt = pd.DataFrame({'PassengerId': test_data.index, 'Survived': predictionsSVM_opt})\\noutputSVM_opt.to_csv('submission.csv', index=False)\\n\""
      ]
     },
     "execution_count": 45,
     "metadata": {},
     "output_type": "execute_result"
    }
   ],
   "source": [
    "'''\n",
    "# We define the optimized model\n",
    "modelSVM_opt = SVC(kernel = 'poly',\n",
    "                   C = 0.1\n",
    "                  )\n",
    "\n",
    "modelSVM_opt.fit(X_train, y)\n",
    "predictionsSVM_opt = modelSVM_opt.predict(X_test)\n",
    "\n",
    "#Output\n",
    "outputSVM_opt = pd.DataFrame({'PassengerId': test_data.index, 'Survived': predictionsSVM_opt})\n",
    "outputSVM_opt.to_csv('submission.csv', index=False)\n",
    "'''"
   ]
  },
  {
   "cell_type": "markdown",
   "id": "09e2c662",
   "metadata": {
    "papermill": {
     "duration": 0.026221,
     "end_time": "2023-06-12T10:25:05.736903",
     "exception": false,
     "start_time": "2023-06-12T10:25:05.710682",
     "status": "completed"
    },
    "tags": []
   },
   "source": [
    "### Gradient Boosting"
   ]
  },
  {
   "cell_type": "code",
   "execution_count": 46,
   "id": "17edd42a",
   "metadata": {
    "execution": {
     "iopub.execute_input": "2023-06-12T10:25:05.792236Z",
     "iopub.status.busy": "2023-06-12T10:25:05.791798Z",
     "iopub.status.idle": "2023-06-12T10:25:05.888431Z",
     "shell.execute_reply": "2023-06-12T10:25:05.886829Z"
    },
    "papermill": {
     "duration": 0.128044,
     "end_time": "2023-06-12T10:25:05.891504",
     "exception": false,
     "start_time": "2023-06-12T10:25:05.763460",
     "status": "completed"
    },
    "tags": []
   },
   "outputs": [],
   "source": [
    "#Initialization, training and predictions of the classifier\n",
    "modelGB = GradientBoostingClassifier()\n",
    "modelGB.fit(X_train, y)\n",
    "predictionsGB = modelGB.predict(X_test)\n",
    "\n",
    "\n",
    "#Output\n",
    "outputGB = pd.DataFrame({'PassengerId': test_data.index, 'Survived': predictionsGB})\n",
    "outputGB.to_csv('submission.csv', index=False)"
   ]
  },
  {
   "cell_type": "markdown",
   "id": "e952a1c1",
   "metadata": {
    "papermill": {
     "duration": 0.027059,
     "end_time": "2023-06-12T10:25:05.945797",
     "exception": false,
     "start_time": "2023-06-12T10:25:05.918738",
     "status": "completed"
    },
    "tags": []
   },
   "source": [
    "#### Gradient Boosting model optimization"
   ]
  },
  {
   "cell_type": "code",
   "execution_count": 47,
   "id": "711083c9",
   "metadata": {
    "execution": {
     "iopub.execute_input": "2023-06-12T10:25:06.002700Z",
     "iopub.status.busy": "2023-06-12T10:25:06.002342Z",
     "iopub.status.idle": "2023-06-12T10:25:06.010874Z",
     "shell.execute_reply": "2023-06-12T10:25:06.009597Z"
    },
    "papermill": {
     "duration": 0.039803,
     "end_time": "2023-06-12T10:25:06.013640",
     "exception": false,
     "start_time": "2023-06-12T10:25:05.973837",
     "status": "completed"
    },
    "tags": []
   },
   "outputs": [
    {
     "data": {
      "text/plain": [
       "\"\\n#Optimization of the GB classifier\\nparameters_gb = {'n_estimators':[10, 100, 1000],\\n                 'learning_rate' :[0.001, 0.01, 0.1],\\n                 'subsample' :[0.5, 0.7, 1.0],\\n                 'max_depth' :[3, 7, 9]\\n                 }\\n\\n# We apply the Gridsearch to the GB model\\ngrid_gb=GridSearchCV(modelGB,param_grid=parameters_gb,cv=cv)\\n\\n#We train the grid\\ntrain_grid_gb = grid_gb.fit(X_train, y)\\n\\n# We find the best hyperparameters \\nprint('GB model best score is %f with parameters %s'%(train_grid_gb.best_score_, train_grid_gb.best_params_))\\n\""
      ]
     },
     "execution_count": 47,
     "metadata": {},
     "output_type": "execute_result"
    }
   ],
   "source": [
    "'''\n",
    "#Optimization of the GB classifier\n",
    "parameters_gb = {'n_estimators':[10, 100, 1000],\n",
    "                 'learning_rate' :[0.001, 0.01, 0.1],\n",
    "                 'subsample' :[0.5, 0.7, 1.0],\n",
    "                 'max_depth' :[3, 7, 9]\n",
    "                 }\n",
    "\n",
    "# We apply the Gridsearch to the GB model\n",
    "grid_gb=GridSearchCV(modelGB,param_grid=parameters_gb,cv=cv)\n",
    "\n",
    "#We train the grid\n",
    "train_grid_gb = grid_gb.fit(X_train, y)\n",
    "\n",
    "# We find the best hyperparameters \n",
    "print('GB model best score is %f with parameters %s'%(train_grid_gb.best_score_, train_grid_gb.best_params_))\n",
    "'''"
   ]
  },
  {
   "cell_type": "markdown",
   "id": "6183fc94",
   "metadata": {
    "papermill": {
     "duration": 0.026797,
     "end_time": "2023-06-12T10:25:06.068542",
     "exception": false,
     "start_time": "2023-06-12T10:25:06.041745",
     "status": "completed"
    },
    "tags": []
   },
   "source": [
    "### Deep Learning"
   ]
  },
  {
   "cell_type": "code",
   "execution_count": 48,
   "id": "dcc1b61c",
   "metadata": {
    "execution": {
     "iopub.execute_input": "2023-06-12T10:25:06.125233Z",
     "iopub.status.busy": "2023-06-12T10:25:06.124836Z",
     "iopub.status.idle": "2023-06-12T10:25:14.687316Z",
     "shell.execute_reply": "2023-06-12T10:25:14.685790Z"
    },
    "papermill": {
     "duration": 8.594275,
     "end_time": "2023-06-12T10:25:14.691010",
     "exception": false,
     "start_time": "2023-06-12T10:25:06.096735",
     "status": "completed"
    },
    "tags": []
   },
   "outputs": [],
   "source": [
    "import tensorflow as tf\n",
    "from tensorflow.keras import Sequential\n",
    "from tensorflow.keras.layers import Input, Dense\n",
    "from tensorflow.keras.models import Model"
   ]
  },
  {
   "cell_type": "markdown",
   "id": "acecde8d",
   "metadata": {
    "papermill": {
     "duration": 0.026698,
     "end_time": "2023-06-12T10:25:14.745232",
     "exception": false,
     "start_time": "2023-06-12T10:25:14.718534",
     "status": "completed"
    },
    "tags": []
   },
   "source": [
    "#### Data Preparation"
   ]
  },
  {
   "cell_type": "code",
   "execution_count": 49,
   "id": "7c768d6e",
   "metadata": {
    "execution": {
     "iopub.execute_input": "2023-06-12T10:25:14.801849Z",
     "iopub.status.busy": "2023-06-12T10:25:14.801045Z",
     "iopub.status.idle": "2023-06-12T10:25:14.810475Z",
     "shell.execute_reply": "2023-06-12T10:25:14.809112Z"
    },
    "papermill": {
     "duration": 0.041612,
     "end_time": "2023-06-12T10:25:14.813356",
     "exception": false,
     "start_time": "2023-06-12T10:25:14.771744",
     "status": "completed"
    },
    "tags": []
   },
   "outputs": [
    {
     "name": "stdout",
     "output_type": "stream",
     "text": [
      "Age           float64\n",
      "Parch         float64\n",
      "Pclass_1        uint8\n",
      "Pclass_2        uint8\n",
      "Pclass_3        uint8\n",
      "Sex_female      uint8\n",
      "Sex_male        uint8\n",
      "Embarked_C      uint8\n",
      "Embarked_Q      uint8\n",
      "Embarked_S      uint8\n",
      "dtype: object\n",
      "Age           float64\n",
      "Parch         float64\n",
      "Pclass_1        uint8\n",
      "Pclass_2        uint8\n",
      "Pclass_3        uint8\n",
      "Sex_female      uint8\n",
      "Sex_male        uint8\n",
      "Embarked_C      uint8\n",
      "Embarked_Q      uint8\n",
      "Embarked_S      uint8\n",
      "dtype: object\n"
     ]
    }
   ],
   "source": [
    "print(X_train.dtypes)\n",
    "print(X_test.dtypes)"
   ]
  },
  {
   "cell_type": "code",
   "execution_count": 50,
   "id": "cae135b7",
   "metadata": {
    "execution": {
     "iopub.execute_input": "2023-06-12T10:25:14.871177Z",
     "iopub.status.busy": "2023-06-12T10:25:14.870789Z",
     "iopub.status.idle": "2023-06-12T10:25:14.891016Z",
     "shell.execute_reply": "2023-06-12T10:25:14.889986Z"
    },
    "papermill": {
     "duration": 0.051746,
     "end_time": "2023-06-12T10:25:14.893643",
     "exception": false,
     "start_time": "2023-06-12T10:25:14.841897",
     "status": "completed"
    },
    "tags": []
   },
   "outputs": [],
   "source": [
    "# We transform the types uint8 in float so they'll be processed by the Neural Network\n",
    "X_train['Pclass_1'] = X_train['Pclass_1'].astype('float')\n",
    "X_train['Pclass_2'] = X_train['Pclass_2'].astype('float')\n",
    "X_train['Pclass_3'] = X_train['Pclass_3'].astype('float')\n",
    "X_train['Sex_female'] = X_train['Sex_female'].astype('float')\n",
    "X_train['Sex_male'] = X_train['Sex_male'].astype('float')\n",
    "X_train['Embarked_C'] = X_train['Embarked_C'].astype('float')\n",
    "X_train['Embarked_Q'] = X_train['Embarked_Q'].astype('float')\n",
    "X_train['Embarked_S'] = X_train['Embarked_S'].astype('float')\n",
    "\n",
    "# Same for the X_test dataset\n",
    "X_test['Pclass_1'] = X_test['Pclass_1'].astype('float')\n",
    "X_test['Pclass_2'] = X_test['Pclass_2'].astype('float')\n",
    "X_test['Pclass_3'] = X_test['Pclass_3'].astype('float')\n",
    "X_test['Sex_female'] = X_test['Sex_female'].astype('float')\n",
    "X_test['Sex_male'] = X_test['Sex_male'].astype('float')\n",
    "X_test['Embarked_C'] = X_test['Embarked_C'].astype('float')\n",
    "X_test['Embarked_Q'] = X_test['Embarked_Q'].astype('float')\n",
    "X_test['Embarked_S'] = X_test['Embarked_S'].astype('float')"
   ]
  },
  {
   "cell_type": "code",
   "execution_count": 51,
   "id": "17d7d39a",
   "metadata": {
    "execution": {
     "iopub.execute_input": "2023-06-12T10:25:14.950034Z",
     "iopub.status.busy": "2023-06-12T10:25:14.949287Z",
     "iopub.status.idle": "2023-06-12T10:25:14.954768Z",
     "shell.execute_reply": "2023-06-12T10:25:14.953600Z"
    },
    "papermill": {
     "duration": 0.036377,
     "end_time": "2023-06-12T10:25:14.957154",
     "exception": false,
     "start_time": "2023-06-12T10:25:14.920777",
     "status": "completed"
    },
    "tags": []
   },
   "outputs": [],
   "source": [
    "y = y.astype('float')"
   ]
  },
  {
   "cell_type": "code",
   "execution_count": 52,
   "id": "ee8afacf",
   "metadata": {
    "execution": {
     "iopub.execute_input": "2023-06-12T10:25:15.014467Z",
     "iopub.status.busy": "2023-06-12T10:25:15.013751Z",
     "iopub.status.idle": "2023-06-12T10:25:15.216577Z",
     "shell.execute_reply": "2023-06-12T10:25:15.215538Z"
    },
    "papermill": {
     "duration": 0.239029,
     "end_time": "2023-06-12T10:25:15.223779",
     "exception": false,
     "start_time": "2023-06-12T10:25:14.984750",
     "status": "completed"
    },
    "tags": []
   },
   "outputs": [
    {
     "name": "stdout",
     "output_type": "stream",
     "text": [
      "Model: \"model\"\n",
      "_________________________________________________________________\n",
      " Layer (type)                Output Shape              Param #   \n",
      "=================================================================\n",
      " input_1 (InputLayer)        [(None, 10)]              0         \n",
      "                                                                 \n",
      " dense (Dense)               (None, 10)                110       \n",
      "                                                                 \n",
      " dense_1 (Dense)             (None, 10)                110       \n",
      "                                                                 \n",
      " dense_2 (Dense)             (None, 1)                 11        \n",
      "                                                                 \n",
      "=================================================================\n",
      "Total params: 231\n",
      "Trainable params: 231\n",
      "Non-trainable params: 0\n",
      "_________________________________________________________________\n"
     ]
    }
   ],
   "source": [
    "#Initialization of a neural network\n",
    "inputs = Input(shape = X_train.shape[1])\n",
    "\n",
    "#Dense layers\n",
    "first_layer = Dense(units = 10, activation = 'tanh')\n",
    "second_layer = Dense(units = 10, activation = 'tanh')\n",
    "third_layer = Dense(units = 1, activation = 'sigmoid')\n",
    "\n",
    "#Operations\n",
    "x = first_layer(inputs)\n",
    "x = second_layer(x)\n",
    "outputs = third_layer(x)\n",
    "\n",
    "#Creation of the model\n",
    "model = Model(inputs = inputs, outputs = outputs)\n",
    "model.summary()"
   ]
  },
  {
   "cell_type": "code",
   "execution_count": 53,
   "id": "e7397014",
   "metadata": {
    "execution": {
     "iopub.execute_input": "2023-06-12T10:25:15.290903Z",
     "iopub.status.busy": "2023-06-12T10:25:15.290422Z",
     "iopub.status.idle": "2023-06-12T10:25:15.313806Z",
     "shell.execute_reply": "2023-06-12T10:25:15.312452Z"
    },
    "papermill": {
     "duration": 0.063978,
     "end_time": "2023-06-12T10:25:15.316272",
     "exception": false,
     "start_time": "2023-06-12T10:25:15.252294",
     "status": "completed"
    },
    "tags": []
   },
   "outputs": [],
   "source": [
    "model.compile(loss = 'binary_crossentropy',\n",
    "             optimizer = 'adam',\n",
    "             metrics = 'accuracy')"
   ]
  },
  {
   "cell_type": "code",
   "execution_count": 54,
   "id": "7e883c06",
   "metadata": {
    "execution": {
     "iopub.execute_input": "2023-06-12T10:25:15.383325Z",
     "iopub.status.busy": "2023-06-12T10:25:15.382601Z",
     "iopub.status.idle": "2023-06-12T10:25:18.103072Z",
     "shell.execute_reply": "2023-06-12T10:25:18.101764Z"
    },
    "papermill": {
     "duration": 2.75498,
     "end_time": "2023-06-12T10:25:18.105468",
     "exception": false,
     "start_time": "2023-06-12T10:25:15.350488",
     "status": "completed"
    },
    "tags": []
   },
   "outputs": [
    {
     "name": "stdout",
     "output_type": "stream",
     "text": [
      "Epoch 1/20\n",
      "15/15 [==============================] - 1s 16ms/step - loss: 0.7034 - accuracy: 0.5632 - val_loss: 0.6461 - val_accuracy: 0.6369\n",
      "Epoch 2/20\n",
      "15/15 [==============================] - 0s 4ms/step - loss: 0.6656 - accuracy: 0.5927 - val_loss: 0.6148 - val_accuracy: 0.6536\n",
      "Epoch 3/20\n",
      "15/15 [==============================] - 0s 5ms/step - loss: 0.6375 - accuracy: 0.6292 - val_loss: 0.5898 - val_accuracy: 0.6816\n",
      "Epoch 4/20\n",
      "15/15 [==============================] - 0s 4ms/step - loss: 0.6142 - accuracy: 0.6728 - val_loss: 0.5700 - val_accuracy: 0.6872\n",
      "Epoch 5/20\n",
      "15/15 [==============================] - 0s 5ms/step - loss: 0.5930 - accuracy: 0.6854 - val_loss: 0.5521 - val_accuracy: 0.6983\n",
      "Epoch 6/20\n",
      "15/15 [==============================] - 0s 4ms/step - loss: 0.5731 - accuracy: 0.6966 - val_loss: 0.5340 - val_accuracy: 0.7430\n",
      "Epoch 7/20\n",
      "15/15 [==============================] - 0s 4ms/step - loss: 0.5554 - accuracy: 0.7416 - val_loss: 0.5179 - val_accuracy: 0.7933\n",
      "Epoch 8/20\n",
      "15/15 [==============================] - 0s 4ms/step - loss: 0.5382 - accuracy: 0.7640 - val_loss: 0.5019 - val_accuracy: 0.8212\n",
      "Epoch 9/20\n",
      "15/15 [==============================] - 0s 4ms/step - loss: 0.5236 - accuracy: 0.7584 - val_loss: 0.4879 - val_accuracy: 0.7989\n",
      "Epoch 10/20\n",
      "15/15 [==============================] - 0s 4ms/step - loss: 0.5109 - accuracy: 0.7893 - val_loss: 0.4754 - val_accuracy: 0.8156\n",
      "Epoch 11/20\n",
      "15/15 [==============================] - 0s 4ms/step - loss: 0.5004 - accuracy: 0.7893 - val_loss: 0.4647 - val_accuracy: 0.8156\n",
      "Epoch 12/20\n",
      "15/15 [==============================] - 0s 4ms/step - loss: 0.4922 - accuracy: 0.7879 - val_loss: 0.4565 - val_accuracy: 0.8101\n",
      "Epoch 13/20\n",
      "15/15 [==============================] - 0s 4ms/step - loss: 0.4843 - accuracy: 0.7823 - val_loss: 0.4504 - val_accuracy: 0.8101\n",
      "Epoch 14/20\n",
      "15/15 [==============================] - 0s 4ms/step - loss: 0.4789 - accuracy: 0.7837 - val_loss: 0.4434 - val_accuracy: 0.8212\n",
      "Epoch 15/20\n",
      "15/15 [==============================] - 0s 4ms/step - loss: 0.4748 - accuracy: 0.7837 - val_loss: 0.4372 - val_accuracy: 0.8212\n",
      "Epoch 16/20\n",
      "15/15 [==============================] - 0s 4ms/step - loss: 0.4708 - accuracy: 0.7865 - val_loss: 0.4332 - val_accuracy: 0.8268\n",
      "Epoch 17/20\n",
      "15/15 [==============================] - 0s 4ms/step - loss: 0.4678 - accuracy: 0.7893 - val_loss: 0.4299 - val_accuracy: 0.8268\n",
      "Epoch 18/20\n",
      "15/15 [==============================] - 0s 4ms/step - loss: 0.4657 - accuracy: 0.7879 - val_loss: 0.4278 - val_accuracy: 0.8212\n",
      "Epoch 19/20\n",
      "15/15 [==============================] - 0s 4ms/step - loss: 0.4645 - accuracy: 0.7865 - val_loss: 0.4257 - val_accuracy: 0.8212\n",
      "Epoch 20/20\n",
      "15/15 [==============================] - 0s 4ms/step - loss: 0.4628 - accuracy: 0.7879 - val_loss: 0.4236 - val_accuracy: 0.8156\n"
     ]
    }
   ],
   "source": [
    "training_history = model.fit(X_train, y, epochs = 20, batch_size = 50, validation_split = 0.2)"
   ]
  },
  {
   "cell_type": "code",
   "execution_count": 55,
   "id": "b45fb9d8",
   "metadata": {
    "execution": {
     "iopub.execute_input": "2023-06-12T10:25:18.170119Z",
     "iopub.status.busy": "2023-06-12T10:25:18.169727Z",
     "iopub.status.idle": "2023-06-12T10:25:18.338742Z",
     "shell.execute_reply": "2023-06-12T10:25:18.337658Z"
    },
    "papermill": {
     "duration": 0.204225,
     "end_time": "2023-06-12T10:25:18.340823",
     "exception": false,
     "start_time": "2023-06-12T10:25:18.136598",
     "status": "completed"
    },
    "tags": []
   },
   "outputs": [
    {
     "data": {
      "image/png": "[encoded data removed]",
      "text/plain": [
       "<Figure size 640x480 with 1 Axes>"
      ]
     },
     "metadata": {},
     "output_type": "display_data"
    }
   ],
   "source": [
    "train_acc = training_history.history['accuracy']\n",
    "val_acc = training_history.history['val_accuracy']\n",
    "\n",
    "plt.plot(val_acc)\n",
    "plt.plot(train_acc, 'r');"
   ]
  },
  {
   "cell_type": "code",
   "execution_count": 56,
   "id": "70f42698",
   "metadata": {
    "execution": {
     "iopub.execute_input": "2023-06-12T10:25:18.406607Z",
     "iopub.status.busy": "2023-06-12T10:25:18.406154Z",
     "iopub.status.idle": "2023-06-12T10:25:18.628891Z",
     "shell.execute_reply": "2023-06-12T10:25:18.627098Z"
    },
    "papermill": {
     "duration": 0.258526,
     "end_time": "2023-06-12T10:25:18.631667",
     "exception": false,
     "start_time": "2023-06-12T10:25:18.373141",
     "status": "completed"
    },
    "tags": []
   },
   "outputs": [
    {
     "name": "stdout",
     "output_type": "stream",
     "text": [
      "14/14 [==============================] - 0s 1ms/step\n"
     ]
    }
   ],
   "source": [
    "# Predictions of the Neural Network\n",
    "predictionsNN = model.predict(X_test)\n",
    "predictionsNN = list(predictionsNN)\n",
    "#Output\n",
    "outputNN = pd.DataFrame({'PassengerId': test_data.index, 'Survived': predictionsNN})\n",
    "outputNN.to_csv('submission.csv', index=False)"
   ]
  },
  {
   "cell_type": "code",
   "execution_count": 57,
   "id": "c7223962",
   "metadata": {
    "execution": {
     "iopub.execute_input": "2023-06-12T10:25:18.696592Z",
     "iopub.status.busy": "2023-06-12T10:25:18.696201Z",
     "iopub.status.idle": "2023-06-12T10:25:18.714141Z",
     "shell.execute_reply": "2023-06-12T10:25:18.712639Z"
    },
    "papermill": {
     "duration": 0.053394,
     "end_time": "2023-06-12T10:25:18.716398",
     "exception": false,
     "start_time": "2023-06-12T10:25:18.663004",
     "status": "completed"
    },
    "tags": []
   },
   "outputs": [
    {
     "data": {
      "text/html": [
       "<div>\n",
       "<style scoped>\n",
       "    .dataframe tbody tr th:only-of-type {\n",
       "        vertical-align: middle;\n",
       "    }\n",
       "\n",
       "    .dataframe tbody tr th {\n",
       "        vertical-align: top;\n",
       "    }\n",
       "\n",
       "    .dataframe thead th {\n",
       "        text-align: right;\n",
       "    }\n",
       "</style>\n",
       "<table border=\"1\" class=\"dataframe\">\n",
       "  <thead>\n",
       "    <tr style=\"text-align: right;\">\n",
       "      <th></th>\n",
       "      <th>PassengerId</th>\n",
       "      <th>Survived</th>\n",
       "    </tr>\n",
       "  </thead>\n",
       "  <tbody>\n",
       "    <tr>\n",
       "      <th>0</th>\n",
       "      <td>892</td>\n",
       "      <td>[0.104849696]</td>\n",
       "    </tr>\n",
       "    <tr>\n",
       "      <th>1</th>\n",
       "      <td>893</td>\n",
       "      <td>[0.498782]</td>\n",
       "    </tr>\n",
       "    <tr>\n",
       "      <th>2</th>\n",
       "      <td>894</td>\n",
       "      <td>[0.19121827]</td>\n",
       "    </tr>\n",
       "    <tr>\n",
       "      <th>3</th>\n",
       "      <td>895</td>\n",
       "      <td>[0.09984886]</td>\n",
       "    </tr>\n",
       "    <tr>\n",
       "      <th>4</th>\n",
       "      <td>896</td>\n",
       "      <td>[0.5866339]</td>\n",
       "    </tr>\n",
       "    <tr>\n",
       "      <th>5</th>\n",
       "      <td>897</td>\n",
       "      <td>[0.15577061]</td>\n",
       "    </tr>\n",
       "    <tr>\n",
       "      <th>6</th>\n",
       "      <td>898</td>\n",
       "      <td>[0.6563386]</td>\n",
       "    </tr>\n",
       "    <tr>\n",
       "      <th>7</th>\n",
       "      <td>899</td>\n",
       "      <td>[0.18739249]</td>\n",
       "    </tr>\n",
       "    <tr>\n",
       "      <th>8</th>\n",
       "      <td>900</td>\n",
       "      <td>[0.7374818]</td>\n",
       "    </tr>\n",
       "    <tr>\n",
       "      <th>9</th>\n",
       "      <td>901</td>\n",
       "      <td>[0.120616995]</td>\n",
       "    </tr>\n",
       "    <tr>\n",
       "      <th>10</th>\n",
       "      <td>902</td>\n",
       "      <td>[0.09191554]</td>\n",
       "    </tr>\n",
       "    <tr>\n",
       "      <th>11</th>\n",
       "      <td>903</td>\n",
       "      <td>[0.26283666]</td>\n",
       "    </tr>\n",
       "    <tr>\n",
       "      <th>12</th>\n",
       "      <td>904</td>\n",
       "      <td>[0.8816172]</td>\n",
       "    </tr>\n",
       "    <tr>\n",
       "      <th>13</th>\n",
       "      <td>905</td>\n",
       "      <td>[0.13981688]</td>\n",
       "    </tr>\n",
       "    <tr>\n",
       "      <th>14</th>\n",
       "      <td>906</td>\n",
       "      <td>[0.8003878]</td>\n",
       "    </tr>\n",
       "    <tr>\n",
       "      <th>15</th>\n",
       "      <td>907</td>\n",
       "      <td>[0.84978735]</td>\n",
       "    </tr>\n",
       "    <tr>\n",
       "      <th>16</th>\n",
       "      <td>908</td>\n",
       "      <td>[0.2905773]</td>\n",
       "    </tr>\n",
       "    <tr>\n",
       "      <th>17</th>\n",
       "      <td>909</td>\n",
       "      <td>[0.1959252]</td>\n",
       "    </tr>\n",
       "    <tr>\n",
       "      <th>18</th>\n",
       "      <td>910</td>\n",
       "      <td>[0.5962152]</td>\n",
       "    </tr>\n",
       "    <tr>\n",
       "      <th>19</th>\n",
       "      <td>911</td>\n",
       "      <td>[0.6310772]</td>\n",
       "    </tr>\n",
       "  </tbody>\n",
       "</table>\n",
       "</div>"
      ],
      "text/plain": [
       "    PassengerId       Survived\n",
       "0           892  [0.104849696]\n",
       "1           893     [0.498782]\n",
       "2           894   [0.19121827]\n",
       "3           895   [0.09984886]\n",
       "4           896    [0.5866339]\n",
       "5           897   [0.15577061]\n",
       "6           898    [0.6563386]\n",
       "7           899   [0.18739249]\n",
       "8           900    [0.7374818]\n",
       "9           901  [0.120616995]\n",
       "10          902   [0.09191554]\n",
       "11          903   [0.26283666]\n",
       "12          904    [0.8816172]\n",
       "13          905   [0.13981688]\n",
       "14          906    [0.8003878]\n",
       "15          907   [0.84978735]\n",
       "16          908    [0.2905773]\n",
       "17          909    [0.1959252]\n",
       "18          910    [0.5962152]\n",
       "19          911    [0.6310772]"
      ]
     },
     "execution_count": 57,
     "metadata": {},
     "output_type": "execute_result"
    }
   ],
   "source": [
    "outputNN[0:20]"
   ]
  },
  {
   "cell_type": "code",
   "execution_count": null,
   "id": "6c11c278",
   "metadata": {
    "papermill": {
     "duration": 0.03133,
     "end_time": "2023-06-12T10:25:18.779464",
     "exception": false,
     "start_time": "2023-06-12T10:25:18.748134",
     "status": "completed"
    },
    "tags": []
   },
   "outputs": [],
   "source": []
  }
 ],
 "metadata": {
  "kernelspec": {
   "display_name": "Python 3",
   "language": "python",
   "name": "python3"
  },
  "language_info": {
   "codemirror_mode": {
    "name": "ipython",
    "version": 3
   },
   "file_extension": ".py",
   "mimetype": "text/x-python",
   "name": "python",
   "nbconvert_exporter": "python",
   "pygments_lexer": "ipython3",
   "version": "3.7.12"
  },
  "papermill": {
   "default_parameters": {},
   "duration": 36.101342,
   "end_time": "2023-06-12T10:25:21.502471",
   "environment_variables": {},
   "exception": null,
   "input_path": "__notebook__.ipynb",
   "output_path": "__notebook__.ipynb",
   "parameters": {},
   "start_time": "2023-06-12T10:24:45.401129",
   "version": "2.4.0"
  }
 },
 "nbformat": 4,
 "nbformat_minor": 5
}
